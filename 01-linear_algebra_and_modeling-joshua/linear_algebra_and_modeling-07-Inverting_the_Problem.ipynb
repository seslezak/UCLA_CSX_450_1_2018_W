{
 "cells": [
  {
   "cell_type": "markdown",
   "metadata": {},
   "source": [
    "# Inverting the Problem/Inverting the Matrix\n"
   ]
  },
  {
   "cell_type": "markdown",
   "metadata": {},
   "source": [
    "## Inverting the Problem\n",
    "\n",
    "Previously, we found a point that was the intersection between two lines. Now, let's find a line that connects two points.\n",
    "\n",
    "\n",
    "### What if we know some points and not the function?\n",
    "\n",
    "e.g. the points $(-3,4)$ and $(2,-3$)"
   ]
  },
  {
   "cell_type": "code",
   "execution_count": 1,
   "metadata": {},
   "outputs": [
    {
     "data": {
      "image/png": "[encoded data removed]",
      "text/plain": [
       "plot without title"
      ]
     },
     "metadata": {},
     "output_type": "display_data"
    }
   ],
   "source": [
    "options(repr.plot.width=12, repr.plot.height=6)\n",
    "plot(NA, xlim=c(-5,5), ylim=c(-5,5), xlab=\"X\", ylab=\"Y\")\n",
    "abline(h=0); abline(v=0)\n",
    "points(-3,4)\n",
    "points(2,-3)"
   ]
  },
  {
   "cell_type": "markdown",
   "metadata": {},
   "source": [
    "### We can use linear algebra to find a function to fit these points!\n"
   ]
  },
  {
   "cell_type": "markdown",
   "metadata": {},
   "source": [
    "We know that the equation look like this:\n",
    "\n",
    "&nbsp;\n",
    "\n",
    "&nbsp;\n",
    "\n",
    "&nbsp;\n",
    "\n",
    "&nbsp;"
   ]
  },
  {
   "cell_type": "markdown",
   "metadata": {},
   "source": [
    "Which can be rewritten as\n",
    "\n",
    "&nbsp;\n",
    "\n",
    "&nbsp;\n",
    "\n",
    "&nbsp;\n",
    "\n",
    "&nbsp;"
   ]
  },
  {
   "cell_type": "markdown",
   "metadata": {},
   "source": [
    "We then have two equations:\n",
    "\n",
    "&nbsp;\n",
    "\n",
    "&nbsp;\n",
    "\n",
    "&nbsp;\n",
    "\n",
    "&nbsp;"
   ]
  },
  {
   "cell_type": "markdown",
   "metadata": {},
   "source": [
    "or\n",
    "\n",
    "&nbsp;\n",
    "\n",
    "&nbsp;\n",
    "\n",
    "&nbsp;\n",
    "\n",
    "&nbsp;"
   ]
  },
  {
   "cell_type": "markdown",
   "metadata": {},
   "source": [
    "### We can enter our data using the matrix form\n",
    "$$\n",
    "\\beta_0\\left(\\begin{matrix}1\\\\1\\end{matrix}\\right)\n",
    "+ \\beta_1\\left(\\begin{matrix}-3\\\\2\\end{matrix}\\right)\n",
    "=\\left(\\begin{matrix}4\\\\-3\\end{matrix}\\right)$$\n",
    "\n",
    "$$\n",
    "\\left(\\begin{matrix}1&-3\\\\1&2\\end{matrix}\\right)\n",
    "\\left(\\begin{matrix}\\beta_0\\\\\\beta_1\\end{matrix}\\right)=\\left(\\begin{matrix}4\\\\-3\\end{matrix}\\right)$$\n",
    "\n",
    "Which we can think of as $$X\\beta=\\mathbf{y}$$"
   ]
  },
  {
   "cell_type": "markdown",
   "metadata": {},
   "source": [
    "### The Inverse Matrix\n",
    "\n",
    "For some matrices, an inverse operation exists. We will come to think of a matrix multiplication as a transformation.\n",
    "\n",
    "If we have two matrices, say $A$ and $B$ and multiply them, we think of $A$ as transforming $B$ into a new matrix. Let's call the new matrix $C$.\n",
    "\n",
    "$$AB=C$$\n",
    "\n",
    "If we want to change $C$ back into the original matrix, $B$, and provided that $A$ has an inverse, we can transform $C$ by the inverse matrix $A^{-1}$. \n",
    "\n",
    "$$A^{-1}C=B$$\n",
    "\n",
    "##### Matrix Multiplication is not Commutative\n",
    "\n",
    "$$AB \\neq BA$$\n"
   ]
  },
  {
   "cell_type": "markdown",
   "metadata": {},
   "source": [
    "### Solving the System using the Inverse\n",
    "\n",
    "Our system is $$X\\beta=\\mathbf{y}$$\n",
    "\n",
    "Here we see that $X$ is transforming $\\beta$ into $\\mathbf{y}$. Keep in mind that we know $X$ and we know $\\mathbf{y}$. What we want to know is $\\beta$. "
   ]
  },
  {
   "cell_type": "markdown",
   "metadata": {},
   "source": [
    "What we want to do is transform $\\mathbf{y}$ back into $\\beta$. We can do this with the inverse matrix, $X^{-1}$ (provided that it exists). \n",
    "\n",
    "$$\\beta=X^{-1}\\mathbf{y}$$"
   ]
  },
  {
   "cell_type": "code",
   "execution_count": 2,
   "metadata": {},
   "outputs": [],
   "source": [
    "X <- rbind(c(1,-3),c(1,2))\n",
    "y <- c(4,-3)"
   ]
  },
  {
   "cell_type": "code",
   "execution_count": 3,
   "metadata": {},
   "outputs": [
    {
     "data": {
      "text/html": [
       "<table>\n",
       "<tbody>\n",
       "\t<tr><td>1 </td><td>-3</td></tr>\n",
       "\t<tr><td>1 </td><td> 2</td></tr>\n",
       "</tbody>\n",
       "</table>\n"
      ],
      "text/latex": [
       "\\begin{tabular}{ll}\n",
       "\t 1  & -3\\\\\n",
       "\t 1  &  2\\\\\n",
       "\\end{tabular}\n"
      ],
      "text/markdown": [
       "\n",
       "| 1  | -3 | \n",
       "| 1  |  2 | \n",
       "\n",
       "\n"
      ],
      "text/plain": [
       "     [,1] [,2]\n",
       "[1,] 1    -3  \n",
       "[2,] 1     2  "
      ]
     },
     "metadata": {},
     "output_type": "display_data"
    }
   ],
   "source": [
    "X"
   ]
  },
  {
   "cell_type": "code",
   "execution_count": 4,
   "metadata": {},
   "outputs": [
    {
     "data": {
      "text/html": [
       "<ol class=list-inline>\n",
       "\t<li>-0.199999999999999</li>\n",
       "\t<li>-1.4</li>\n",
       "</ol>\n"
      ],
      "text/latex": [
       "\\begin{enumerate*}\n",
       "\\item -0.199999999999999\n",
       "\\item -1.4\n",
       "\\end{enumerate*}\n"
      ],
      "text/markdown": [
       "1. -0.199999999999999\n",
       "2. -1.4\n",
       "\n",
       "\n"
      ],
      "text/plain": [
       "[1] -0.2 -1.4"
      ]
     },
     "metadata": {},
     "output_type": "display_data"
    }
   ],
   "source": [
    "beta <- solve(X, y)\n",
    "beta"
   ]
  },
  {
   "cell_type": "code",
   "execution_count": 6,
   "metadata": {},
   "outputs": [
    {
     "data": {
      "image/png": "[encoded data removed]",
      "text/plain": [
       "plot without title"
      ]
     },
     "metadata": {},
     "output_type": "display_data"
    }
   ],
   "source": [
    "options(repr.plot.width=12, repr.plot.height=6)\n",
    "plot(NA, xlim=c(-5,5), ylim=c(-5,5), xlab=\"X\", ylab=\"Y\")\n",
    "abline(h=0); abline(v=0)\n",
    "points(-3,4)\n",
    "points(2,-3)\n",
    "xx <- seq(-5,5,by = 0.1)\n",
    "lines(xx, beta[1] + beta[2]*xx, col='green')"
   ]
  },
  {
   "cell_type": "code",
   "execution_count": null,
   "metadata": {},
   "outputs": [],
   "source": []
  }
 ],
 "metadata": {
  "kernelspec": {
   "display_name": "R",
   "language": "R",
   "name": "ir"
  },
  "language_info": {
   "codemirror_mode": "r",
   "file_extension": ".r",
   "mimetype": "text/x-r-source",
   "name": "R",
   "pygments_lexer": "r",
   "version": "3.3.2"
  }
 },
 "nbformat": 4,
 "nbformat_minor": 2
}
