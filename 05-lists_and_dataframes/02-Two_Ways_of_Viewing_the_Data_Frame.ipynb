{
 "cells": [
  {
   "cell_type": "markdown",
   "metadata": {},
   "source": [
    "## Two Ways of Viewing the Data Frame"
   ]
  },
  {
   "cell_type": "markdown",
   "metadata": {},
   "source": [
    "A matrix can be thought of as a vector of vectors.\n",
    "\n",
    "A dataframe can be thought of as a list of lists or a vector of lists.\n",
    "\n",
    "Let's briefly consider why we would need such a data structure.\n",
    "\n",
    "In an employee data set, for example, we might have character string data, such as employee names, and numeric data, such as salaries. So, although a data set of (say) 50 employees with 4 variables per worker has the look and feel of a 50-by-4 matrix, it does not qualify as such in R, because it mixes types."
   ]
  },
  {
   "cell_type": "code",
   "execution_count": null,
   "metadata": {},
   "outputs": [],
   "source": [
    "employee_1 <- c(name='Alice', salary=87000)\n",
    "employee_2 <- c(name='Bob', salary=81000)\n",
    "employee_3 <- c(name='Carol', salary=88000)\n",
    "employee_4 <- c(name='Dean', salary=87000)"
   ]
  },
  {
   "cell_type": "code",
   "execution_count": null,
   "metadata": {},
   "outputs": [],
   "source": [
    "employees <- list(employee_1, employee_2, employee_3, employee_4)"
   ]
  },
  {
   "cell_type": "code",
   "execution_count": null,
   "metadata": {},
   "outputs": [],
   "source": [
    "employees_df <- as.data.frame(t(as.data.frame(employees)))\n",
    "rownames(employees_df)<-NULL\n",
    "employees_df"
   ]
  },
  {
   "cell_type": "code",
   "execution_count": null,
   "metadata": {},
   "outputs": [],
   "source": [
    "salaries = c(87000, 81000, 88000, 87000)\n",
    "names = c('Alice','Bob','Carol','Dean')\n",
    "data.frame(list(name=names, salary=salaries))"
   ]
  },
  {
   "cell_type": "code",
   "execution_count": null,
   "metadata": {},
   "outputs": [],
   "source": []
  }
 ],
 "metadata": {
  "kernelspec": {
   "display_name": "R",
   "language": "R",
   "name": "ir"
  },
  "language_info": {
   "codemirror_mode": "r",
   "file_extension": ".r",
   "mimetype": "text/x-r-source",
   "name": "R",
   "pygments_lexer": "r",
   "version": "3.3.2"
  }
 },
 "nbformat": 4,
 "nbformat_minor": 2
}
