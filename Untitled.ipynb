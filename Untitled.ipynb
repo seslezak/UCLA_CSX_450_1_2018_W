{
 "cells": [
  {
   "cell_type": "markdown",
   "metadata": {},
   "source": [
    "## Factors and Levels"
   ]
  },
  {
   "cell_type": "code",
   "execution_count": 1,
   "metadata": {},
   "outputs": [],
   "source": [
    "x <- c(5,12,13,12)\n",
    "xf <- factor(x)"
   ]
  },
  {
   "cell_type": "code",
   "execution_count": 2,
   "metadata": {},
   "outputs": [
    {
     "data": {
      "text/html": [
       "<ol class=list-inline>\n",
       "\t<li>5</li>\n",
       "\t<li>12</li>\n",
       "\t<li>13</li>\n",
       "\t<li>12</li>\n",
       "</ol>\n"
      ],
      "text/latex": [
       "\\begin{enumerate*}\n",
       "\\item 5\n",
       "\\item 12\n",
       "\\item 13\n",
       "\\item 12\n",
       "\\end{enumerate*}\n"
      ],
      "text/markdown": [
       "1. 5\n",
       "2. 12\n",
       "3. 13\n",
       "4. 12\n",
       "\n",
       "\n"
      ],
      "text/plain": [
       "[1] 5  12 13 12\n",
       "Levels: 5 12 13"
      ]
     },
     "metadata": {},
     "output_type": "display_data"
    }
   ],
   "source": [
    "xf"
   ]
  },
  {
   "cell_type": "code",
   "execution_count": 3,
   "metadata": {},
   "outputs": [
    {
     "name": "stdout",
     "output_type": "stream",
     "text": [
      " Factor w/ 3 levels \"5\",\"12\",\"13\": 1 2 3 2\n"
     ]
    }
   ],
   "source": [
    "str(xf)"
   ]
  },
  {
   "cell_type": "code",
   "execution_count": 4,
   "metadata": {},
   "outputs": [
    {
     "data": {
      "text/html": [
       "<ol class=list-inline>\n",
       "\t<li>1</li>\n",
       "\t<li>2</li>\n",
       "\t<li>3</li>\n",
       "\t<li>2</li>\n",
       "</ol>\n"
      ],
      "text/latex": [
       "\\begin{enumerate*}\n",
       "\\item 1\n",
       "\\item 2\n",
       "\\item 3\n",
       "\\item 2\n",
       "\\end{enumerate*}\n"
      ],
      "text/markdown": [
       "1. 1\n",
       "2. 2\n",
       "3. 3\n",
       "4. 2\n",
       "\n",
       "\n"
      ],
      "text/plain": [
       "[1] 1 2 3 2\n",
       "attr(,\"levels\")\n",
       "[1] \"5\"  \"12\" \"13\""
      ]
     },
     "metadata": {},
     "output_type": "display_data"
    }
   ],
   "source": [
    "unclass(xf)"
   ]
  },
  {
   "cell_type": "markdown",
   "metadata": {},
   "source": [
    "### Anticipate unseen levels"
   ]
  },
  {
   "cell_type": "code",
   "execution_count": 7,
   "metadata": {
    "scrolled": true
   },
   "outputs": [
    {
     "name": "stderr",
     "output_type": "stream",
     "text": [
      "Warning message in `[<-.factor`(`*tmp*`, 5, value = 88):\n",
      "“invalid factor level, NA generated”"
     ]
    }
   ],
   "source": [
    "xf[5] <- 88"
   ]
  },
  {
   "cell_type": "code",
   "execution_count": 12,
   "metadata": {},
   "outputs": [
    {
     "data": {
      "text/html": [
       "<ol class=list-inline>\n",
       "\t<li>5</li>\n",
       "\t<li>12</li>\n",
       "\t<li>13</li>\n",
       "\t<li>12</li>\n",
       "\t<li>NA</li>\n",
       "</ol>\n"
      ],
      "text/latex": [
       "\\begin{enumerate*}\n",
       "\\item 5\n",
       "\\item 12\n",
       "\\item 13\n",
       "\\item 12\n",
       "\\item NA\n",
       "\\end{enumerate*}\n"
      ],
      "text/markdown": [
       "1. 5\n",
       "2. 12\n",
       "3. 13\n",
       "4. 12\n",
       "5. NA\n",
       "\n",
       "\n"
      ],
      "text/plain": [
       "[1] 5    12   13   12   <NA>\n",
       "Levels: 5 12 13"
      ]
     },
     "metadata": {},
     "output_type": "display_data"
    }
   ],
   "source": [
    "xf"
   ]
  },
  {
   "cell_type": "code",
   "execution_count": 8,
   "metadata": {},
   "outputs": [],
   "source": [
    "xff <- factor(x, levels=c(5,12,13,88))"
   ]
  },
  {
   "cell_type": "code",
   "execution_count": 9,
   "metadata": {},
   "outputs": [
    {
     "data": {
      "text/html": [
       "<ol class=list-inline>\n",
       "\t<li>5</li>\n",
       "\t<li>12</li>\n",
       "\t<li>13</li>\n",
       "\t<li>12</li>\n",
       "</ol>\n"
      ],
      "text/latex": [
       "\\begin{enumerate*}\n",
       "\\item 5\n",
       "\\item 12\n",
       "\\item 13\n",
       "\\item 12\n",
       "\\end{enumerate*}\n"
      ],
      "text/markdown": [
       "1. 5\n",
       "2. 12\n",
       "3. 13\n",
       "4. 12\n",
       "\n",
       "\n"
      ],
      "text/plain": [
       "[1] 5  12 13 12\n",
       "Levels: 5 12 13 88"
      ]
     },
     "metadata": {},
     "output_type": "display_data"
    }
   ],
   "source": [
    "xff"
   ]
  },
  {
   "cell_type": "code",
   "execution_count": 10,
   "metadata": {},
   "outputs": [],
   "source": [
    "xff[5] <- 88"
   ]
  },
  {
   "cell_type": "code",
   "execution_count": 11,
   "metadata": {},
   "outputs": [
    {
     "data": {
      "text/html": [
       "<ol class=list-inline>\n",
       "\t<li>5</li>\n",
       "\t<li>12</li>\n",
       "\t<li>13</li>\n",
       "\t<li>12</li>\n",
       "\t<li>88</li>\n",
       "</ol>\n"
      ],
      "text/latex": [
       "\\begin{enumerate*}\n",
       "\\item 5\n",
       "\\item 12\n",
       "\\item 13\n",
       "\\item 12\n",
       "\\item 88\n",
       "\\end{enumerate*}\n"
      ],
      "text/markdown": [
       "1. 5\n",
       "2. 12\n",
       "3. 13\n",
       "4. 12\n",
       "5. 88\n",
       "\n",
       "\n"
      ],
      "text/plain": [
       "[1] 5  12 13 12 88\n",
       "Levels: 5 12 13 88"
      ]
     },
     "metadata": {},
     "output_type": "display_data"
    }
   ],
   "source": [
    "xff"
   ]
  },
  {
   "cell_type": "markdown",
   "metadata": {},
   "source": [
    "## `tapply()`"
   ]
  },
  {
   "cell_type": "code",
   "execution_count": 13,
   "metadata": {},
   "outputs": [],
   "source": [
    "ages <- c(25,26,55,37,21,42)\n",
    "political_affiliations <- c(\"R\",\"D\",\"D\",\"R\",\"U\",\"D\")"
   ]
  },
  {
   "cell_type": "code",
   "execution_count": 15,
   "metadata": {},
   "outputs": [
    {
     "data": {
      "text/html": [
       "<dl class=dl-horizontal>\n",
       "\t<dt>D</dt>\n",
       "\t\t<dd>41</dd>\n",
       "\t<dt>R</dt>\n",
       "\t\t<dd>31</dd>\n",
       "\t<dt>U</dt>\n",
       "\t\t<dd>21</dd>\n",
       "</dl>\n"
      ],
      "text/plain": [
       " D  R  U \n",
       "41 31 21 "
      ]
     },
     "metadata": {},
     "output_type": "display_data"
    }
   ],
   "source": [
    "tapply(ages, political_affiliations, mean)"
   ]
  },
  {
   "cell_type": "code",
   "execution_count": 17,
   "metadata": {},
   "outputs": [
    {
     "data": {
      "text/html": [
       "<table>\n",
       "<thead><tr><th scope=col>gender</th><th scope=col>age</th><th scope=col>income</th></tr></thead>\n",
       "<tbody>\n",
       "\t<tr><td>M     </td><td>47    </td><td> 55000</td></tr>\n",
       "\t<tr><td>M     </td><td>59    </td><td> 88000</td></tr>\n",
       "\t<tr><td>F     </td><td>21    </td><td> 32459</td></tr>\n",
       "\t<tr><td>M     </td><td>32    </td><td> 76500</td></tr>\n",
       "\t<tr><td>F     </td><td>33    </td><td>123000</td></tr>\n",
       "\t<tr><td>F     </td><td>24    </td><td> 45650</td></tr>\n",
       "</tbody>\n",
       "</table>\n"
      ],
      "text/latex": [
       "\\begin{tabular}{r|lll}\n",
       " gender & age & income\\\\\n",
       "\\hline\n",
       "\t M      & 47     &  55000\\\\\n",
       "\t M      & 59     &  88000\\\\\n",
       "\t F      & 21     &  32459\\\\\n",
       "\t M      & 32     &  76500\\\\\n",
       "\t F      & 33     & 123000\\\\\n",
       "\t F      & 24     &  45650\\\\\n",
       "\\end{tabular}\n"
      ],
      "text/markdown": [
       "\n",
       "gender | age | income | \n",
       "|---|---|---|---|---|---|\n",
       "| M      | 47     |  55000 | \n",
       "| M      | 59     |  88000 | \n",
       "| F      | 21     |  32459 | \n",
       "| M      | 32     |  76500 | \n",
       "| F      | 33     | 123000 | \n",
       "| F      | 24     |  45650 | \n",
       "\n",
       "\n"
      ],
      "text/plain": [
       "  gender age income\n",
       "1 M      47   55000\n",
       "2 M      59   88000\n",
       "3 F      21   32459\n",
       "4 M      32   76500\n",
       "5 F      33  123000\n",
       "6 F      24   45650"
      ]
     },
     "metadata": {},
     "output_type": "display_data"
    }
   ],
   "source": [
    "df <- data.frame(list(\n",
    "    gender=c(\"M\",\"M\",\"F\",\"M\",\"F\",\"F\"),\n",
    "    age=c(47,59,21,32,33,24),\n",
    "    income=c(55000,88000,32459,76500,123000,45650)\n",
    "))\n",
    "df"
   ]
  },
  {
   "cell_type": "code",
   "execution_count": 19,
   "metadata": {},
   "outputs": [
    {
     "data": {
      "text/html": [
       "<table>\n",
       "<thead><tr><th scope=col>gender</th><th scope=col>age</th><th scope=col>income</th><th scope=col>over25</th></tr></thead>\n",
       "<tbody>\n",
       "\t<tr><td>M     </td><td>47    </td><td> 55000</td><td>1     </td></tr>\n",
       "\t<tr><td>M     </td><td>59    </td><td> 88000</td><td>1     </td></tr>\n",
       "\t<tr><td>F     </td><td>21    </td><td> 32459</td><td>0     </td></tr>\n",
       "\t<tr><td>M     </td><td>32    </td><td> 76500</td><td>1     </td></tr>\n",
       "\t<tr><td>F     </td><td>33    </td><td>123000</td><td>1     </td></tr>\n",
       "\t<tr><td>F     </td><td>24    </td><td> 45650</td><td>0     </td></tr>\n",
       "</tbody>\n",
       "</table>\n"
      ],
      "text/latex": [
       "\\begin{tabular}{r|llll}\n",
       " gender & age & income & over25\\\\\n",
       "\\hline\n",
       "\t M      & 47     &  55000 & 1     \\\\\n",
       "\t M      & 59     &  88000 & 1     \\\\\n",
       "\t F      & 21     &  32459 & 0     \\\\\n",
       "\t M      & 32     &  76500 & 1     \\\\\n",
       "\t F      & 33     & 123000 & 1     \\\\\n",
       "\t F      & 24     &  45650 & 0     \\\\\n",
       "\\end{tabular}\n"
      ],
      "text/markdown": [
       "\n",
       "gender | age | income | over25 | \n",
       "|---|---|---|---|---|---|\n",
       "| M      | 47     |  55000 | 1      | \n",
       "| M      | 59     |  88000 | 1      | \n",
       "| F      | 21     |  32459 | 0      | \n",
       "| M      | 32     |  76500 | 1      | \n",
       "| F      | 33     | 123000 | 1      | \n",
       "| F      | 24     |  45650 | 0      | \n",
       "\n",
       "\n"
      ],
      "text/plain": [
       "  gender age income over25\n",
       "1 M      47   55000 1     \n",
       "2 M      59   88000 1     \n",
       "3 F      21   32459 0     \n",
       "4 M      32   76500 1     \n",
       "5 F      33  123000 1     \n",
       "6 F      24   45650 0     "
      ]
     },
     "metadata": {},
     "output_type": "display_data"
    }
   ],
   "source": [
    "df$over25 <- as.integer(df$age > 25)\n",
    "df"
   ]
  },
  {
   "cell_type": "code",
   "execution_count": 21,
   "metadata": {},
   "outputs": [
    {
     "data": {
      "text/html": [
       "<table>\n",
       "<thead><tr><th></th><th scope=col>0</th><th scope=col>1</th></tr></thead>\n",
       "<tbody>\n",
       "\t<tr><th scope=row>F</th><td>39054.5  </td><td>123000.00</td></tr>\n",
       "\t<tr><th scope=row>M</th><td>     NA  </td><td> 73166.67</td></tr>\n",
       "</tbody>\n",
       "</table>\n"
      ],
      "text/latex": [
       "\\begin{tabular}{r|ll}\n",
       "  & 0 & 1\\\\\n",
       "\\hline\n",
       "\tF & 39054.5   & 123000.00\\\\\n",
       "\tM &      NA   &  73166.67\\\\\n",
       "\\end{tabular}\n"
      ],
      "text/markdown": [
       "\n",
       "| <!--/--> | 0 | 1 | \n",
       "|---|---|\n",
       "| F | 39054.5   | 123000.00 | \n",
       "| M |      NA   |  73166.67 | \n",
       "\n",
       "\n"
      ],
      "text/plain": [
       "  0       1        \n",
       "F 39054.5 123000.00\n",
       "M      NA  73166.67"
      ]
     },
     "metadata": {},
     "output_type": "display_data"
    }
   ],
   "source": [
    "tapply(df$income,list(df$gender,df$over25),mean)"
   ]
  },
  {
   "cell_type": "markdown",
   "metadata": {},
   "source": [
    "## `split()`"
   ]
  },
  {
   "cell_type": "code",
   "execution_count": 23,
   "metadata": {},
   "outputs": [
    {
     "data": {
      "text/html": [
       "<dl>\n",
       "\t<dt>$F.0</dt>\n",
       "\t\t<dd><ol class=list-inline>\n",
       "\t<li>32459</li>\n",
       "\t<li>45650</li>\n",
       "</ol>\n",
       "</dd>\n",
       "\t<dt>$M.0</dt>\n",
       "\t\t<dd></dd>\n",
       "\t<dt>$F.1</dt>\n",
       "\t\t<dd>123000</dd>\n",
       "\t<dt>$M.1</dt>\n",
       "\t\t<dd><ol class=list-inline>\n",
       "\t<li>55000</li>\n",
       "\t<li>88000</li>\n",
       "\t<li>76500</li>\n",
       "</ol>\n",
       "</dd>\n",
       "</dl>\n"
      ],
      "text/latex": [
       "\\begin{description}\n",
       "\\item[\\$F.0] \\begin{enumerate*}\n",
       "\\item 32459\n",
       "\\item 45650\n",
       "\\end{enumerate*}\n",
       "\n",
       "\\item[\\$M.0] \n",
       "\\item[\\$F.1] 123000\n",
       "\\item[\\$M.1] \\begin{enumerate*}\n",
       "\\item 55000\n",
       "\\item 88000\n",
       "\\item 76500\n",
       "\\end{enumerate*}\n",
       "\n",
       "\\end{description}\n"
      ],
      "text/markdown": [
       "$F.0\n",
       ":   1. 32459\n",
       "2. 45650\n",
       "\n",
       "\n",
       "\n",
       "$M.0\n",
       ":   \n",
       "$F.1\n",
       ":   123000\n",
       "$M.1\n",
       ":   1. 55000\n",
       "2. 88000\n",
       "3. 76500\n",
       "\n",
       "\n",
       "\n",
       "\n",
       "\n"
      ],
      "text/plain": [
       "$F.0\n",
       "[1] 32459 45650\n",
       "\n",
       "$M.0\n",
       "numeric(0)\n",
       "\n",
       "$F.1\n",
       "[1] 123000\n",
       "\n",
       "$M.1\n",
       "[1] 55000 88000 76500\n"
      ]
     },
     "metadata": {},
     "output_type": "display_data"
    }
   ],
   "source": [
    "split(df$income,list(df$gender,df$over25))"
   ]
  },
  {
   "cell_type": "code",
   "execution_count": 25,
   "metadata": {},
   "outputs": [
    {
     "data": {
      "text/html": [
       "<dl>\n",
       "\t<dt>$F</dt>\n",
       "\t\t<dd><ol class=list-inline>\n",
       "\t<li>3</li>\n",
       "\t<li>5</li>\n",
       "\t<li>6</li>\n",
       "</ol>\n",
       "</dd>\n",
       "\t<dt>$M</dt>\n",
       "\t\t<dd><ol class=list-inline>\n",
       "\t<li>1</li>\n",
       "\t<li>2</li>\n",
       "\t<li>4</li>\n",
       "</ol>\n",
       "</dd>\n",
       "</dl>\n"
      ],
      "text/latex": [
       "\\begin{description}\n",
       "\\item[\\$F] \\begin{enumerate*}\n",
       "\\item 3\n",
       "\\item 5\n",
       "\\item 6\n",
       "\\end{enumerate*}\n",
       "\n",
       "\\item[\\$M] \\begin{enumerate*}\n",
       "\\item 1\n",
       "\\item 2\n",
       "\\item 4\n",
       "\\end{enumerate*}\n",
       "\n",
       "\\end{description}\n"
      ],
      "text/markdown": [
       "$F\n",
       ":   1. 3\n",
       "2. 5\n",
       "3. 6\n",
       "\n",
       "\n",
       "\n",
       "$M\n",
       ":   1. 1\n",
       "2. 2\n",
       "3. 4\n",
       "\n",
       "\n",
       "\n",
       "\n",
       "\n"
      ],
      "text/plain": [
       "$F\n",
       "[1] 3 5 6\n",
       "\n",
       "$M\n",
       "[1] 1 2 4\n"
      ]
     },
     "metadata": {},
     "output_type": "display_data"
    }
   ],
   "source": [
    "split(1:6, df$gender)"
   ]
  },
  {
   "cell_type": "markdown",
   "metadata": {},
   "source": [
    "## `by()`"
   ]
  },
  {
   "cell_type": "code",
   "execution_count": 28,
   "metadata": {},
   "outputs": [],
   "source": [
    "aba <- read.csv(\"Abalone.data\", header = F)"
   ]
  },
  {
   "cell_type": "code",
   "execution_count": 32,
   "metadata": {},
   "outputs": [],
   "source": [
    "colnames(aba) <- c(\"Sex\",\"Length\",\"Diameter\",\"Height\",\"Whole weight\",\"Shucked weight\",\"Viscera weight\",\"Shell weight\",\"Rings\")"
   ]
  },
  {
   "cell_type": "code",
   "execution_count": 34,
   "metadata": {},
   "outputs": [
    {
     "data": {
      "text/html": [
       "<table>\n",
       "<thead><tr><th scope=col>Sex</th><th scope=col>Length</th><th scope=col>Diameter</th><th scope=col>Height</th><th scope=col>Whole weight</th><th scope=col>Shucked weight</th><th scope=col>Viscera weight</th><th scope=col>Shell weight</th><th scope=col>Rings</th></tr></thead>\n",
       "<tbody>\n",
       "\t<tr><td>M     </td><td>0.455 </td><td>0.365 </td><td>0.095 </td><td>0.5140</td><td>0.2245</td><td>0.1010</td><td>0.150 </td><td>15    </td></tr>\n",
       "\t<tr><td>M     </td><td>0.350 </td><td>0.265 </td><td>0.090 </td><td>0.2255</td><td>0.0995</td><td>0.0485</td><td>0.070 </td><td> 7    </td></tr>\n",
       "\t<tr><td>F     </td><td>0.530 </td><td>0.420 </td><td>0.135 </td><td>0.6770</td><td>0.2565</td><td>0.1415</td><td>0.210 </td><td> 9    </td></tr>\n",
       "\t<tr><td>M     </td><td>0.440 </td><td>0.365 </td><td>0.125 </td><td>0.5160</td><td>0.2155</td><td>0.1140</td><td>0.155 </td><td>10    </td></tr>\n",
       "\t<tr><td>I     </td><td>0.330 </td><td>0.255 </td><td>0.080 </td><td>0.2050</td><td>0.0895</td><td>0.0395</td><td>0.055 </td><td> 7    </td></tr>\n",
       "\t<tr><td>I     </td><td>0.425 </td><td>0.300 </td><td>0.095 </td><td>0.3515</td><td>0.1410</td><td>0.0775</td><td>0.120 </td><td> 8    </td></tr>\n",
       "</tbody>\n",
       "</table>\n"
      ],
      "text/latex": [
       "\\begin{tabular}{r|lllllllll}\n",
       " Sex & Length & Diameter & Height & Whole weight & Shucked weight & Viscera weight & Shell weight & Rings\\\\\n",
       "\\hline\n",
       "\t M      & 0.455  & 0.365  & 0.095  & 0.5140 & 0.2245 & 0.1010 & 0.150  & 15    \\\\\n",
       "\t M      & 0.350  & 0.265  & 0.090  & 0.2255 & 0.0995 & 0.0485 & 0.070  &  7    \\\\\n",
       "\t F      & 0.530  & 0.420  & 0.135  & 0.6770 & 0.2565 & 0.1415 & 0.210  &  9    \\\\\n",
       "\t M      & 0.440  & 0.365  & 0.125  & 0.5160 & 0.2155 & 0.1140 & 0.155  & 10    \\\\\n",
       "\t I      & 0.330  & 0.255  & 0.080  & 0.2050 & 0.0895 & 0.0395 & 0.055  &  7    \\\\\n",
       "\t I      & 0.425  & 0.300  & 0.095  & 0.3515 & 0.1410 & 0.0775 & 0.120  &  8    \\\\\n",
       "\\end{tabular}\n"
      ],
      "text/markdown": [
       "\n",
       "Sex | Length | Diameter | Height | Whole weight | Shucked weight | Viscera weight | Shell weight | Rings | \n",
       "|---|---|---|---|---|---|\n",
       "| M      | 0.455  | 0.365  | 0.095  | 0.5140 | 0.2245 | 0.1010 | 0.150  | 15     | \n",
       "| M      | 0.350  | 0.265  | 0.090  | 0.2255 | 0.0995 | 0.0485 | 0.070  |  7     | \n",
       "| F      | 0.530  | 0.420  | 0.135  | 0.6770 | 0.2565 | 0.1415 | 0.210  |  9     | \n",
       "| M      | 0.440  | 0.365  | 0.125  | 0.5160 | 0.2155 | 0.1140 | 0.155  | 10     | \n",
       "| I      | 0.330  | 0.255  | 0.080  | 0.2050 | 0.0895 | 0.0395 | 0.055  |  7     | \n",
       "| I      | 0.425  | 0.300  | 0.095  | 0.3515 | 0.1410 | 0.0775 | 0.120  |  8     | \n",
       "\n",
       "\n"
      ],
      "text/plain": [
       "  Sex Length Diameter Height Whole weight Shucked weight Viscera weight\n",
       "1 M   0.455  0.365    0.095  0.5140       0.2245         0.1010        \n",
       "2 M   0.350  0.265    0.090  0.2255       0.0995         0.0485        \n",
       "3 F   0.530  0.420    0.135  0.6770       0.2565         0.1415        \n",
       "4 M   0.440  0.365    0.125  0.5160       0.2155         0.1140        \n",
       "5 I   0.330  0.255    0.080  0.2050       0.0895         0.0395        \n",
       "6 I   0.425  0.300    0.095  0.3515       0.1410         0.0775        \n",
       "  Shell weight Rings\n",
       "1 0.150        15   \n",
       "2 0.070         7   \n",
       "3 0.210         9   \n",
       "4 0.155        10   \n",
       "5 0.055         7   \n",
       "6 0.120         8   "
      ]
     },
     "metadata": {},
     "output_type": "display_data"
    }
   ],
   "source": [
    "head(aba)"
   ]
  },
  {
   "cell_type": "code",
   "execution_count": 38,
   "metadata": {},
   "outputs": [
    {
     "data": {
      "text/plain": [
       "aba$Sex: F\n",
       "\n",
       "Call:\n",
       "lm(formula = m$Length ~ m$Diameter)\n",
       "\n",
       "Coefficients:\n",
       "(Intercept)   m$Diameter  \n",
       "    0.04288      1.17918  \n",
       "\n",
       "------------------------------------------------------------ \n",
       "aba$Sex: I\n",
       "\n",
       "Call:\n",
       "lm(formula = m$Length ~ m$Diameter)\n",
       "\n",
       "Coefficients:\n",
       "(Intercept)   m$Diameter  \n",
       "    0.02997      1.21833  \n",
       "\n",
       "------------------------------------------------------------ \n",
       "aba$Sex: M\n",
       "\n",
       "Call:\n",
       "lm(formula = m$Length ~ m$Diameter)\n",
       "\n",
       "Coefficients:\n",
       "(Intercept)   m$Diameter  \n",
       "    0.03653      1.19480  \n"
      ]
     },
     "metadata": {},
     "output_type": "display_data"
    }
   ],
   "source": [
    "by(aba,aba$Sex, function(m) lm(m$Length ~ m$Diameter))"
   ]
  },
  {
   "cell_type": "markdown",
   "metadata": {},
   "source": [
    "## Tables"
   ]
  },
  {
   "cell_type": "code",
   "execution_count": 39,
   "metadata": {},
   "outputs": [
    {
     "data": {
      "text/html": [
       "<table>\n",
       "<thead><tr><th></th><th scope=col>a</th><th scope=col>bc</th></tr></thead>\n",
       "<tbody>\n",
       "\t<tr><th scope=row>5</th><td>2 </td><td>NA</td></tr>\n",
       "\t<tr><th scope=row>12</th><td>1 </td><td> 1</td></tr>\n",
       "\t<tr><th scope=row>13</th><td>2 </td><td> 1</td></tr>\n",
       "</tbody>\n",
       "</table>\n"
      ],
      "text/latex": [
       "\\begin{tabular}{r|ll}\n",
       "  & a & bc\\\\\n",
       "\\hline\n",
       "\t5 & 2  & NA\\\\\n",
       "\t12 & 1  &  1\\\\\n",
       "\t13 & 2  &  1\\\\\n",
       "\\end{tabular}\n"
      ],
      "text/markdown": [
       "\n",
       "| <!--/--> | a | bc | \n",
       "|---|---|---|\n",
       "| 5 | 2  | NA | \n",
       "| 12 | 1  |  1 | \n",
       "| 13 | 2  |  1 | \n",
       "\n",
       "\n"
      ],
      "text/plain": [
       "   a bc\n",
       "5  2 NA\n",
       "12 1  1\n",
       "13 2  1"
      ]
     },
     "metadata": {},
     "output_type": "display_data"
    }
   ],
   "source": [
    "u <- c(22,8,33,6,8,29,-2)\n",
    "fl <- list(\n",
    "        c(5,12,13,12,13,5,13),\n",
    "        c(\"a\",\"bc\",\"a\",\"a\",\"bc\",\"a\",\"a\")\n",
    "      )\n",
    "tapply(u,fl,length)"
   ]
  },
  {
   "cell_type": "code",
   "execution_count": 41,
   "metadata": {},
   "outputs": [
    {
     "ename": "ERROR",
     "evalue": "Error in eval(expr, envir, enclos): object 'ps' not found\n",
     "output_type": "error",
     "traceback": [
      "Error in eval(expr, envir, enclos): object 'ps' not found\nTraceback:\n"
     ]
    }
   ],
   "source": [
    "!ps"
   ]
  },
  {
   "cell_type": "code",
   "execution_count": null,
   "metadata": {},
   "outputs": [],
   "source": []
  }
 ],
 "metadata": {
  "kernelspec": {
   "display_name": "R",
   "language": "R",
   "name": "ir"
  },
  "language_info": {
   "codemirror_mode": "r",
   "file_extension": ".r",
   "mimetype": "text/x-r-source",
   "name": "R",
   "pygments_lexer": "r",
   "version": "3.3.2"
  }
 },
 "nbformat": 4,
 "nbformat_minor": 2
}
