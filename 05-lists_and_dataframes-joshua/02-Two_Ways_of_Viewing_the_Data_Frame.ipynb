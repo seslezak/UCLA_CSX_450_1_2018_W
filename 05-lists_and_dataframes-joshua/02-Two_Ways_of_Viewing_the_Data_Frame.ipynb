{
 "cells": [
  {
   "cell_type": "markdown",
   "metadata": {},
   "source": [
    "## Two Ways of Viewing the Data Frame"
   ]
  },
  {
   "cell_type": "markdown",
   "metadata": {},
   "source": [
    "A matrix can be thought of as a vector of vectors.\n",
    "\n",
    "A dataframe can be thought of as a list of lists or a vector of lists.\n",
    "\n",
    "Let's briefly consider why we would need such a data structure.\n",
    "\n",
    "In an employee data set, for example, we might have character string data, such as employee names, and numeric data, such as salaries. So, although a data set of (say) 50 employees with 4 variables per worker has the look and feel of a 50-by-4 matrix, it does not qualify as such in R, because it mixes types."
   ]
  },
  {
   "cell_type": "code",
   "execution_count": 1,
   "metadata": {},
   "outputs": [],
   "source": [
    "employee_1 <- c(name='Alice', salary=87000)\n",
    "employee_2 <- c(name='Bob', salary=81000)\n",
    "employee_3 <- c(name='Carol', salary=88000)\n",
    "employee_4 <- c(name='Dean', salary=87000)"
   ]
  },
  {
   "cell_type": "code",
   "execution_count": 2,
   "metadata": {},
   "outputs": [],
   "source": [
    "employees <- list(employee_1, employee_2, employee_3, employee_4)"
   ]
  },
  {
   "cell_type": "code",
   "execution_count": 8,
   "metadata": {},
   "outputs": [
    {
     "data": {
      "text/html": [
       "<table>\n",
       "<thead><tr><th scope=col>name</th><th scope=col>salary</th></tr></thead>\n",
       "<tbody>\n",
       "\t<tr><td>Alice</td><td>87000</td></tr>\n",
       "\t<tr><td>Bob  </td><td>81000</td></tr>\n",
       "\t<tr><td>Carol</td><td>88000</td></tr>\n",
       "\t<tr><td>Dean </td><td>87000</td></tr>\n",
       "</tbody>\n",
       "</table>\n"
      ],
      "text/latex": [
       "\\begin{tabular}{r|ll}\n",
       " name & salary\\\\\n",
       "\\hline\n",
       "\t Alice & 87000\\\\\n",
       "\t Bob   & 81000\\\\\n",
       "\t Carol & 88000\\\\\n",
       "\t Dean  & 87000\\\\\n",
       "\\end{tabular}\n"
      ],
      "text/markdown": [
       "\n",
       "name | salary | \n",
       "|---|---|---|---|\n",
       "| Alice | 87000 | \n",
       "| Bob   | 81000 | \n",
       "| Carol | 88000 | \n",
       "| Dean  | 87000 | \n",
       "\n",
       "\n"
      ],
      "text/plain": [
       "  name  salary\n",
       "1 Alice 87000 \n",
       "2 Bob   81000 \n",
       "3 Carol 88000 \n",
       "4 Dean  87000 "
      ]
     },
     "metadata": {},
     "output_type": "display_data"
    }
   ],
   "source": [
    "employees_df <- as.data.frame(t(as.data.frame(employees)))\n",
    "rownames(employees_df)<-NULL\n",
    "employees_df"
   ]
  },
  {
   "cell_type": "code",
   "execution_count": 9,
   "metadata": {},
   "outputs": [],
   "source": [
    "salaries = c(87000, 81000, 88000, 87000)\n",
    "names = c('Alice','Bob','Carol','Dean')\n",
    "df <- data.frame(list(name=names, salary=salaries))"
   ]
  },
  {
   "cell_type": "code",
   "execution_count": 10,
   "metadata": {},
   "outputs": [
    {
     "data": {
      "text/html": [
       "<ol class=list-inline>\n",
       "\t<li>Alice</li>\n",
       "\t<li>Bob</li>\n",
       "\t<li>Carol</li>\n",
       "\t<li>Dean</li>\n",
       "</ol>\n"
      ],
      "text/latex": [
       "\\begin{enumerate*}\n",
       "\\item Alice\n",
       "\\item Bob\n",
       "\\item Carol\n",
       "\\item Dean\n",
       "\\end{enumerate*}\n"
      ],
      "text/markdown": [
       "1. Alice\n",
       "2. Bob\n",
       "3. Carol\n",
       "4. Dean\n",
       "\n",
       "\n"
      ],
      "text/plain": [
       "[1] Alice Bob   Carol Dean \n",
       "Levels: Alice Bob Carol Dean"
      ]
     },
     "metadata": {},
     "output_type": "display_data"
    }
   ],
   "source": [
    "df$name"
   ]
  },
  {
   "cell_type": "code",
   "execution_count": null,
   "metadata": {},
   "outputs": [],
   "source": []
  }
 ],
 "metadata": {
  "kernelspec": {
   "display_name": "R",
   "language": "R",
   "name": "ir"
  },
  "language_info": {
   "codemirror_mode": "r",
   "file_extension": ".r",
   "mimetype": "text/x-r-source",
   "name": "R",
   "pygments_lexer": "r",
   "version": "3.3.2"
  }
 },
 "nbformat": 4,
 "nbformat_minor": 2
}
