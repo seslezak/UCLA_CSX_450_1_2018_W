{
 "cells": [
  {
   "cell_type": "markdown",
   "metadata": {},
   "source": [
    "## Working with Dataframes"
   ]
  },
  {
   "cell_type": "markdown",
   "metadata": {},
   "source": [
    "### Loading a CSV into a DataFrame"
   ]
  },
  {
   "cell_type": "code",
   "execution_count": 1,
   "metadata": {},
   "outputs": [],
   "source": [
    "balloons = read.csv('http://archive.ics.uci.edu/ml/machine-learning-databases/balloons/adult-stretch.data', header = F)"
   ]
  },
  {
   "cell_type": "markdown",
   "metadata": {},
   "source": [
    "### `head`"
   ]
  },
  {
   "cell_type": "code",
   "execution_count": 3,
   "metadata": {},
   "outputs": [
    {
     "data": {
      "text/html": [
       "<table>\n",
       "<thead><tr><th scope=col>V1</th><th scope=col>V2</th><th scope=col>V3</th><th scope=col>V4</th><th scope=col>V5</th></tr></thead>\n",
       "<tbody>\n",
       "\t<tr><td>YELLOW </td><td>SMALL  </td><td>STRETCH</td><td>ADULT  </td><td> TRUE  </td></tr>\n",
       "\t<tr><td>YELLOW </td><td>SMALL  </td><td>STRETCH</td><td>CHILD  </td><td> TRUE  </td></tr>\n",
       "\t<tr><td>YELLOW </td><td>SMALL  </td><td>DIP    </td><td>ADULT  </td><td> TRUE  </td></tr>\n",
       "\t<tr><td>YELLOW </td><td>SMALL  </td><td>DIP    </td><td>CHILD  </td><td>FALSE  </td></tr>\n",
       "</tbody>\n",
       "</table>\n"
      ],
      "text/latex": [
       "\\begin{tabular}{r|lllll}\n",
       " V1 & V2 & V3 & V4 & V5\\\\\n",
       "\\hline\n",
       "\t YELLOW  & SMALL   & STRETCH & ADULT   &  TRUE  \\\\\n",
       "\t YELLOW  & SMALL   & STRETCH & CHILD   &  TRUE  \\\\\n",
       "\t YELLOW  & SMALL   & DIP     & ADULT   &  TRUE  \\\\\n",
       "\t YELLOW  & SMALL   & DIP     & CHILD   & FALSE  \\\\\n",
       "\\end{tabular}\n"
      ],
      "text/markdown": [
       "\n",
       "V1 | V2 | V3 | V4 | V5 | \n",
       "|---|---|---|---|\n",
       "| YELLOW  | SMALL   | STRETCH | ADULT   |  TRUE   | \n",
       "| YELLOW  | SMALL   | STRETCH | CHILD   |  TRUE   | \n",
       "| YELLOW  | SMALL   | DIP     | ADULT   |  TRUE   | \n",
       "| YELLOW  | SMALL   | DIP     | CHILD   | FALSE   | \n",
       "\n",
       "\n"
      ],
      "text/plain": [
       "  V1     V2    V3      V4    V5   \n",
       "1 YELLOW SMALL STRETCH ADULT  TRUE\n",
       "2 YELLOW SMALL STRETCH CHILD  TRUE\n",
       "3 YELLOW SMALL DIP     ADULT  TRUE\n",
       "4 YELLOW SMALL DIP     CHILD FALSE"
      ]
     },
     "metadata": {},
     "output_type": "display_data"
    }
   ],
   "source": [
    "head(balloons, 4)"
   ]
  },
  {
   "cell_type": "markdown",
   "metadata": {},
   "source": [
    "### `colnames`"
   ]
  },
  {
   "cell_type": "code",
   "execution_count": 4,
   "metadata": {},
   "outputs": [],
   "source": [
    "colnames(balloons) <- c('color', 'size', 'act', 'age', 'inflated')"
   ]
  },
  {
   "cell_type": "code",
   "execution_count": 5,
   "metadata": {},
   "outputs": [
    {
     "data": {
      "text/html": [
       "<ol class=list-inline>\n",
       "\t<li>'color'</li>\n",
       "\t<li>'size'</li>\n",
       "\t<li>'act'</li>\n",
       "\t<li>'age'</li>\n",
       "\t<li>'inflated'</li>\n",
       "</ol>\n"
      ],
      "text/latex": [
       "\\begin{enumerate*}\n",
       "\\item 'color'\n",
       "\\item 'size'\n",
       "\\item 'act'\n",
       "\\item 'age'\n",
       "\\item 'inflated'\n",
       "\\end{enumerate*}\n"
      ],
      "text/markdown": [
       "1. 'color'\n",
       "2. 'size'\n",
       "3. 'act'\n",
       "4. 'age'\n",
       "5. 'inflated'\n",
       "\n",
       "\n"
      ],
      "text/plain": [
       "[1] \"color\"    \"size\"     \"act\"      \"age\"      \"inflated\""
      ]
     },
     "metadata": {},
     "output_type": "display_data"
    }
   ],
   "source": [
    "colnames(balloons)"
   ]
  },
  {
   "cell_type": "code",
   "execution_count": 6,
   "metadata": {},
   "outputs": [
    {
     "data": {
      "text/html": [
       "<table>\n",
       "<thead><tr><th scope=col>color</th><th scope=col>size</th><th scope=col>act</th><th scope=col>age</th><th scope=col>inflated</th></tr></thead>\n",
       "<tbody>\n",
       "\t<tr><td>YELLOW </td><td>SMALL  </td><td>STRETCH</td><td>ADULT  </td><td> TRUE  </td></tr>\n",
       "\t<tr><td>YELLOW </td><td>SMALL  </td><td>STRETCH</td><td>CHILD  </td><td> TRUE  </td></tr>\n",
       "\t<tr><td>YELLOW </td><td>SMALL  </td><td>DIP    </td><td>ADULT  </td><td> TRUE  </td></tr>\n",
       "\t<tr><td>YELLOW </td><td>SMALL  </td><td>DIP    </td><td>CHILD  </td><td>FALSE  </td></tr>\n",
       "\t<tr><td>YELLOW </td><td>SMALL  </td><td>DIP    </td><td>CHILD  </td><td>FALSE  </td></tr>\n",
       "\t<tr><td>YELLOW </td><td>LARGE  </td><td>STRETCH</td><td>ADULT  </td><td> TRUE  </td></tr>\n",
       "</tbody>\n",
       "</table>\n"
      ],
      "text/latex": [
       "\\begin{tabular}{r|lllll}\n",
       " color & size & act & age & inflated\\\\\n",
       "\\hline\n",
       "\t YELLOW  & SMALL   & STRETCH & ADULT   &  TRUE  \\\\\n",
       "\t YELLOW  & SMALL   & STRETCH & CHILD   &  TRUE  \\\\\n",
       "\t YELLOW  & SMALL   & DIP     & ADULT   &  TRUE  \\\\\n",
       "\t YELLOW  & SMALL   & DIP     & CHILD   & FALSE  \\\\\n",
       "\t YELLOW  & SMALL   & DIP     & CHILD   & FALSE  \\\\\n",
       "\t YELLOW  & LARGE   & STRETCH & ADULT   &  TRUE  \\\\\n",
       "\\end{tabular}\n"
      ],
      "text/markdown": [
       "\n",
       "color | size | act | age | inflated | \n",
       "|---|---|---|---|---|---|\n",
       "| YELLOW  | SMALL   | STRETCH | ADULT   |  TRUE   | \n",
       "| YELLOW  | SMALL   | STRETCH | CHILD   |  TRUE   | \n",
       "| YELLOW  | SMALL   | DIP     | ADULT   |  TRUE   | \n",
       "| YELLOW  | SMALL   | DIP     | CHILD   | FALSE   | \n",
       "| YELLOW  | SMALL   | DIP     | CHILD   | FALSE   | \n",
       "| YELLOW  | LARGE   | STRETCH | ADULT   |  TRUE   | \n",
       "\n",
       "\n"
      ],
      "text/plain": [
       "  color  size  act     age   inflated\n",
       "1 YELLOW SMALL STRETCH ADULT  TRUE   \n",
       "2 YELLOW SMALL STRETCH CHILD  TRUE   \n",
       "3 YELLOW SMALL DIP     ADULT  TRUE   \n",
       "4 YELLOW SMALL DIP     CHILD FALSE   \n",
       "5 YELLOW SMALL DIP     CHILD FALSE   \n",
       "6 YELLOW LARGE STRETCH ADULT  TRUE   "
      ]
     },
     "metadata": {},
     "output_type": "display_data"
    }
   ],
   "source": [
    "head(balloons)"
   ]
  },
  {
   "cell_type": "markdown",
   "metadata": {},
   "source": [
    "### Data Dimensions"
   ]
  },
  {
   "cell_type": "code",
   "execution_count": 7,
   "metadata": {},
   "outputs": [
    {
     "data": {
      "text/html": [
       "<ol class=list-inline>\n",
       "\t<li>20</li>\n",
       "\t<li>5</li>\n",
       "</ol>\n"
      ],
      "text/latex": [
       "\\begin{enumerate*}\n",
       "\\item 20\n",
       "\\item 5\n",
       "\\end{enumerate*}\n"
      ],
      "text/markdown": [
       "1. 20\n",
       "2. 5\n",
       "\n",
       "\n"
      ],
      "text/plain": [
       "[1] 20  5"
      ]
     },
     "metadata": {},
     "output_type": "display_data"
    }
   ],
   "source": [
    "dim(balloons)"
   ]
  },
  {
   "cell_type": "markdown",
   "metadata": {},
   "source": [
    "### `rownames`\n"
   ]
  },
  {
   "cell_type": "code",
   "execution_count": 9,
   "metadata": {},
   "outputs": [
    {
     "data": {
      "text/html": [
       "<ol class=list-inline>\n",
       "\t<li>'balloon_1'</li>\n",
       "\t<li>'balloon_2'</li>\n",
       "\t<li>'balloon_3'</li>\n",
       "\t<li>'balloon_4'</li>\n",
       "\t<li>'balloon_5'</li>\n",
       "\t<li>'balloon_6'</li>\n",
       "\t<li>'balloon_7'</li>\n",
       "\t<li>'balloon_8'</li>\n",
       "\t<li>'balloon_9'</li>\n",
       "\t<li>'balloon_10'</li>\n",
       "\t<li>'balloon_11'</li>\n",
       "\t<li>'balloon_12'</li>\n",
       "\t<li>'balloon_13'</li>\n",
       "\t<li>'balloon_14'</li>\n",
       "\t<li>'balloon_15'</li>\n",
       "\t<li>'balloon_16'</li>\n",
       "\t<li>'balloon_17'</li>\n",
       "\t<li>'balloon_18'</li>\n",
       "\t<li>'balloon_19'</li>\n",
       "\t<li>'balloon_20'</li>\n",
       "</ol>\n"
      ],
      "text/latex": [
       "\\begin{enumerate*}\n",
       "\\item 'balloon\\_1'\n",
       "\\item 'balloon\\_2'\n",
       "\\item 'balloon\\_3'\n",
       "\\item 'balloon\\_4'\n",
       "\\item 'balloon\\_5'\n",
       "\\item 'balloon\\_6'\n",
       "\\item 'balloon\\_7'\n",
       "\\item 'balloon\\_8'\n",
       "\\item 'balloon\\_9'\n",
       "\\item 'balloon\\_10'\n",
       "\\item 'balloon\\_11'\n",
       "\\item 'balloon\\_12'\n",
       "\\item 'balloon\\_13'\n",
       "\\item 'balloon\\_14'\n",
       "\\item 'balloon\\_15'\n",
       "\\item 'balloon\\_16'\n",
       "\\item 'balloon\\_17'\n",
       "\\item 'balloon\\_18'\n",
       "\\item 'balloon\\_19'\n",
       "\\item 'balloon\\_20'\n",
       "\\end{enumerate*}\n"
      ],
      "text/markdown": [
       "1. 'balloon_1'\n",
       "2. 'balloon_2'\n",
       "3. 'balloon_3'\n",
       "4. 'balloon_4'\n",
       "5. 'balloon_5'\n",
       "6. 'balloon_6'\n",
       "7. 'balloon_7'\n",
       "8. 'balloon_8'\n",
       "9. 'balloon_9'\n",
       "10. 'balloon_10'\n",
       "11. 'balloon_11'\n",
       "12. 'balloon_12'\n",
       "13. 'balloon_13'\n",
       "14. 'balloon_14'\n",
       "15. 'balloon_15'\n",
       "16. 'balloon_16'\n",
       "17. 'balloon_17'\n",
       "18. 'balloon_18'\n",
       "19. 'balloon_19'\n",
       "20. 'balloon_20'\n",
       "\n",
       "\n"
      ],
      "text/plain": [
       " [1] \"balloon_1\"  \"balloon_2\"  \"balloon_3\"  \"balloon_4\"  \"balloon_5\" \n",
       " [6] \"balloon_6\"  \"balloon_7\"  \"balloon_8\"  \"balloon_9\"  \"balloon_10\"\n",
       "[11] \"balloon_11\" \"balloon_12\" \"balloon_13\" \"balloon_14\" \"balloon_15\"\n",
       "[16] \"balloon_16\" \"balloon_17\" \"balloon_18\" \"balloon_19\" \"balloon_20\""
      ]
     },
     "metadata": {},
     "output_type": "display_data"
    }
   ],
   "source": [
    "n = dim(balloons)[1]\n",
    "paste(\"balloon_\", 1:n, sep=\"\")"
   ]
  },
  {
   "cell_type": "code",
   "execution_count": 10,
   "metadata": {},
   "outputs": [],
   "source": [
    "n = dim(balloons)[1]\n",
    "rownames(balloons) <- paste(\"balloon_\", 1:n, sep=\"\")"
   ]
  },
  {
   "cell_type": "code",
   "execution_count": 11,
   "metadata": {},
   "outputs": [
    {
     "data": {
      "text/html": [
       "<table>\n",
       "<thead><tr><th></th><th scope=col>color</th><th scope=col>size</th><th scope=col>act</th><th scope=col>age</th><th scope=col>inflated</th></tr></thead>\n",
       "<tbody>\n",
       "\t<tr><th scope=row>balloon_1</th><td>YELLOW </td><td>SMALL  </td><td>STRETCH</td><td>ADULT  </td><td> TRUE  </td></tr>\n",
       "\t<tr><th scope=row>balloon_2</th><td>YELLOW </td><td>SMALL  </td><td>STRETCH</td><td>CHILD  </td><td> TRUE  </td></tr>\n",
       "\t<tr><th scope=row>balloon_3</th><td>YELLOW </td><td>SMALL  </td><td>DIP    </td><td>ADULT  </td><td> TRUE  </td></tr>\n",
       "\t<tr><th scope=row>balloon_4</th><td>YELLOW </td><td>SMALL  </td><td>DIP    </td><td>CHILD  </td><td>FALSE  </td></tr>\n",
       "\t<tr><th scope=row>balloon_5</th><td>YELLOW </td><td>SMALL  </td><td>DIP    </td><td>CHILD  </td><td>FALSE  </td></tr>\n",
       "\t<tr><th scope=row>balloon_6</th><td>YELLOW </td><td>LARGE  </td><td>STRETCH</td><td>ADULT  </td><td> TRUE  </td></tr>\n",
       "</tbody>\n",
       "</table>\n"
      ],
      "text/latex": [
       "\\begin{tabular}{r|lllll}\n",
       "  & color & size & act & age & inflated\\\\\n",
       "\\hline\n",
       "\tballoon\\_1 & YELLOW  & SMALL   & STRETCH & ADULT   &  TRUE  \\\\\n",
       "\tballoon\\_2 & YELLOW  & SMALL   & STRETCH & CHILD   &  TRUE  \\\\\n",
       "\tballoon\\_3 & YELLOW  & SMALL   & DIP     & ADULT   &  TRUE  \\\\\n",
       "\tballoon\\_4 & YELLOW  & SMALL   & DIP     & CHILD   & FALSE  \\\\\n",
       "\tballoon\\_5 & YELLOW  & SMALL   & DIP     & CHILD   & FALSE  \\\\\n",
       "\tballoon\\_6 & YELLOW  & LARGE   & STRETCH & ADULT   &  TRUE  \\\\\n",
       "\\end{tabular}\n"
      ],
      "text/markdown": [
       "\n",
       "| <!--/--> | color | size | act | age | inflated | \n",
       "|---|---|---|---|---|---|\n",
       "| balloon_1 | YELLOW  | SMALL   | STRETCH | ADULT   |  TRUE   | \n",
       "| balloon_2 | YELLOW  | SMALL   | STRETCH | CHILD   |  TRUE   | \n",
       "| balloon_3 | YELLOW  | SMALL   | DIP     | ADULT   |  TRUE   | \n",
       "| balloon_4 | YELLOW  | SMALL   | DIP     | CHILD   | FALSE   | \n",
       "| balloon_5 | YELLOW  | SMALL   | DIP     | CHILD   | FALSE   | \n",
       "| balloon_6 | YELLOW  | LARGE   | STRETCH | ADULT   |  TRUE   | \n",
       "\n",
       "\n"
      ],
      "text/plain": [
       "          color  size  act     age   inflated\n",
       "balloon_1 YELLOW SMALL STRETCH ADULT  TRUE   \n",
       "balloon_2 YELLOW SMALL STRETCH CHILD  TRUE   \n",
       "balloon_3 YELLOW SMALL DIP     ADULT  TRUE   \n",
       "balloon_4 YELLOW SMALL DIP     CHILD FALSE   \n",
       "balloon_5 YELLOW SMALL DIP     CHILD FALSE   \n",
       "balloon_6 YELLOW LARGE STRETCH ADULT  TRUE   "
      ]
     },
     "metadata": {},
     "output_type": "display_data"
    }
   ],
   "source": [
    "head(balloons)"
   ]
  },
  {
   "cell_type": "markdown",
   "metadata": {},
   "source": [
    "### Columns are Vectors"
   ]
  },
  {
   "cell_type": "code",
   "execution_count": 12,
   "metadata": {},
   "outputs": [
    {
     "data": {
      "text/html": [
       "<ol class=list-inline>\n",
       "\t<li>YELLOW</li>\n",
       "\t<li>YELLOW</li>\n",
       "\t<li>YELLOW</li>\n",
       "\t<li>YELLOW</li>\n",
       "\t<li>YELLOW</li>\n",
       "\t<li>YELLOW</li>\n",
       "\t<li>YELLOW</li>\n",
       "\t<li>YELLOW</li>\n",
       "\t<li>YELLOW</li>\n",
       "\t<li>YELLOW</li>\n",
       "\t<li>PURPLE</li>\n",
       "\t<li>PURPLE</li>\n",
       "\t<li>PURPLE</li>\n",
       "\t<li>PURPLE</li>\n",
       "\t<li>PURPLE</li>\n",
       "\t<li>PURPLE</li>\n",
       "\t<li>PURPLE</li>\n",
       "\t<li>PURPLE</li>\n",
       "\t<li>PURPLE</li>\n",
       "\t<li>PURPLE</li>\n",
       "</ol>\n"
      ],
      "text/latex": [
       "\\begin{enumerate*}\n",
       "\\item YELLOW\n",
       "\\item YELLOW\n",
       "\\item YELLOW\n",
       "\\item YELLOW\n",
       "\\item YELLOW\n",
       "\\item YELLOW\n",
       "\\item YELLOW\n",
       "\\item YELLOW\n",
       "\\item YELLOW\n",
       "\\item YELLOW\n",
       "\\item PURPLE\n",
       "\\item PURPLE\n",
       "\\item PURPLE\n",
       "\\item PURPLE\n",
       "\\item PURPLE\n",
       "\\item PURPLE\n",
       "\\item PURPLE\n",
       "\\item PURPLE\n",
       "\\item PURPLE\n",
       "\\item PURPLE\n",
       "\\end{enumerate*}\n"
      ],
      "text/markdown": [
       "1. YELLOW\n",
       "2. YELLOW\n",
       "3. YELLOW\n",
       "4. YELLOW\n",
       "5. YELLOW\n",
       "6. YELLOW\n",
       "7. YELLOW\n",
       "8. YELLOW\n",
       "9. YELLOW\n",
       "10. YELLOW\n",
       "11. PURPLE\n",
       "12. PURPLE\n",
       "13. PURPLE\n",
       "14. PURPLE\n",
       "15. PURPLE\n",
       "16. PURPLE\n",
       "17. PURPLE\n",
       "18. PURPLE\n",
       "19. PURPLE\n",
       "20. PURPLE\n",
       "\n",
       "\n"
      ],
      "text/plain": [
       " [1] YELLOW YELLOW YELLOW YELLOW YELLOW YELLOW YELLOW YELLOW YELLOW YELLOW\n",
       "[11] PURPLE PURPLE PURPLE PURPLE PURPLE PURPLE PURPLE PURPLE PURPLE PURPLE\n",
       "Levels: PURPLE YELLOW"
      ]
     },
     "metadata": {},
     "output_type": "display_data"
    }
   ],
   "source": [
    "balloons$color"
   ]
  },
  {
   "cell_type": "code",
   "execution_count": 23,
   "metadata": {},
   "outputs": [
    {
     "data": {
      "text/html": [
       "<table>\n",
       "<thead><tr><th></th><th scope=col>size</th><th scope=col>act</th></tr></thead>\n",
       "<tbody>\n",
       "\t<tr><th scope=row>balloon_7</th><td>LARGE  </td><td>STRETCH</td></tr>\n",
       "\t<tr><th scope=row>balloon_12</th><td>SMALL  </td><td>STRETCH</td></tr>\n",
       "</tbody>\n",
       "</table>\n"
      ],
      "text/latex": [
       "\\begin{tabular}{r|ll}\n",
       "  & size & act\\\\\n",
       "\\hline\n",
       "\tballoon\\_7 & LARGE   & STRETCH\\\\\n",
       "\tballoon\\_12 & SMALL   & STRETCH\\\\\n",
       "\\end{tabular}\n"
      ],
      "text/markdown": [
       "\n",
       "| <!--/--> | size | act | \n",
       "|---|---|\n",
       "| balloon_7 | LARGE   | STRETCH | \n",
       "| balloon_12 | SMALL   | STRETCH | \n",
       "\n",
       "\n"
      ],
      "text/plain": [
       "           size  act    \n",
       "balloon_7  LARGE STRETCH\n",
       "balloon_12 SMALL STRETCH"
      ]
     },
     "metadata": {},
     "output_type": "display_data"
    }
   ],
   "source": [
    "balloons[c('balloon_7','balloon_12'),c(2,3)]"
   ]
  },
  {
   "cell_type": "markdown",
   "metadata": {},
   "source": [
    "#### Columns Accessed by name are filtered DataFrames"
   ]
  },
  {
   "cell_type": "code",
   "execution_count": 18,
   "metadata": {},
   "outputs": [
    {
     "data": {
      "text/html": [
       "<ol class=list-inline>\n",
       "\t<li>YELLOW</li>\n",
       "\t<li>PURPLE</li>\n",
       "</ol>\n"
      ],
      "text/latex": [
       "\\begin{enumerate*}\n",
       "\\item YELLOW\n",
       "\\item PURPLE\n",
       "\\end{enumerate*}\n"
      ],
      "text/markdown": [
       "1. YELLOW\n",
       "2. PURPLE\n",
       "\n",
       "\n"
      ],
      "text/plain": [
       "[1] YELLOW PURPLE\n",
       "Levels: PURPLE YELLOW"
      ]
     },
     "metadata": {},
     "output_type": "display_data"
    }
   ],
   "source": [
    "balloons[c('balloon_7','balloon_12'),'color']"
   ]
  },
  {
   "cell_type": "code",
   "execution_count": 16,
   "metadata": {},
   "outputs": [
    {
     "data": {
      "text/html": [
       "<table>\n",
       "<thead><tr><th></th><th scope=col>size</th><th scope=col>act</th></tr></thead>\n",
       "<tbody>\n",
       "\t<tr><th scope=row>balloon_1</th><td>SMALL  </td><td>STRETCH</td></tr>\n",
       "\t<tr><th scope=row>balloon_2</th><td>SMALL  </td><td>STRETCH</td></tr>\n",
       "\t<tr><th scope=row>balloon_3</th><td>SMALL  </td><td>DIP    </td></tr>\n",
       "\t<tr><th scope=row>balloon_4</th><td>SMALL  </td><td>DIP    </td></tr>\n",
       "\t<tr><th scope=row>balloon_5</th><td>SMALL  </td><td>DIP    </td></tr>\n",
       "\t<tr><th scope=row>balloon_6</th><td>LARGE  </td><td>STRETCH</td></tr>\n",
       "\t<tr><th scope=row>balloon_7</th><td>LARGE  </td><td>STRETCH</td></tr>\n",
       "\t<tr><th scope=row>balloon_8</th><td>LARGE  </td><td>DIP    </td></tr>\n",
       "\t<tr><th scope=row>balloon_9</th><td>LARGE  </td><td>DIP    </td></tr>\n",
       "\t<tr><th scope=row>balloon_10</th><td>LARGE  </td><td>DIP    </td></tr>\n",
       "\t<tr><th scope=row>balloon_11</th><td>SMALL  </td><td>STRETCH</td></tr>\n",
       "\t<tr><th scope=row>balloon_12</th><td>SMALL  </td><td>STRETCH</td></tr>\n",
       "\t<tr><th scope=row>balloon_13</th><td>SMALL  </td><td>DIP    </td></tr>\n",
       "\t<tr><th scope=row>balloon_14</th><td>SMALL  </td><td>DIP    </td></tr>\n",
       "\t<tr><th scope=row>balloon_15</th><td>SMALL  </td><td>DIP    </td></tr>\n",
       "\t<tr><th scope=row>balloon_16</th><td>LARGE  </td><td>STRETCH</td></tr>\n",
       "\t<tr><th scope=row>balloon_17</th><td>LARGE  </td><td>STRETCH</td></tr>\n",
       "\t<tr><th scope=row>balloon_18</th><td>LARGE  </td><td>DIP    </td></tr>\n",
       "\t<tr><th scope=row>balloon_19</th><td>LARGE  </td><td>DIP    </td></tr>\n",
       "\t<tr><th scope=row>balloon_20</th><td>LARGE  </td><td>DIP    </td></tr>\n",
       "</tbody>\n",
       "</table>\n"
      ],
      "text/latex": [
       "\\begin{tabular}{r|ll}\n",
       "  & size & act\\\\\n",
       "\\hline\n",
       "\tballoon\\_1 & SMALL   & STRETCH\\\\\n",
       "\tballoon\\_2 & SMALL   & STRETCH\\\\\n",
       "\tballoon\\_3 & SMALL   & DIP    \\\\\n",
       "\tballoon\\_4 & SMALL   & DIP    \\\\\n",
       "\tballoon\\_5 & SMALL   & DIP    \\\\\n",
       "\tballoon\\_6 & LARGE   & STRETCH\\\\\n",
       "\tballoon\\_7 & LARGE   & STRETCH\\\\\n",
       "\tballoon\\_8 & LARGE   & DIP    \\\\\n",
       "\tballoon\\_9 & LARGE   & DIP    \\\\\n",
       "\tballoon\\_10 & LARGE   & DIP    \\\\\n",
       "\tballoon\\_11 & SMALL   & STRETCH\\\\\n",
       "\tballoon\\_12 & SMALL   & STRETCH\\\\\n",
       "\tballoon\\_13 & SMALL   & DIP    \\\\\n",
       "\tballoon\\_14 & SMALL   & DIP    \\\\\n",
       "\tballoon\\_15 & SMALL   & DIP    \\\\\n",
       "\tballoon\\_16 & LARGE   & STRETCH\\\\\n",
       "\tballoon\\_17 & LARGE   & STRETCH\\\\\n",
       "\tballoon\\_18 & LARGE   & DIP    \\\\\n",
       "\tballoon\\_19 & LARGE   & DIP    \\\\\n",
       "\tballoon\\_20 & LARGE   & DIP    \\\\\n",
       "\\end{tabular}\n"
      ],
      "text/markdown": [
       "\n",
       "| <!--/--> | size | act | \n",
       "|---|---|---|---|---|---|---|---|---|---|---|---|---|---|---|---|---|---|---|---|\n",
       "| balloon_1 | SMALL   | STRETCH | \n",
       "| balloon_2 | SMALL   | STRETCH | \n",
       "| balloon_3 | SMALL   | DIP     | \n",
       "| balloon_4 | SMALL   | DIP     | \n",
       "| balloon_5 | SMALL   | DIP     | \n",
       "| balloon_6 | LARGE   | STRETCH | \n",
       "| balloon_7 | LARGE   | STRETCH | \n",
       "| balloon_8 | LARGE   | DIP     | \n",
       "| balloon_9 | LARGE   | DIP     | \n",
       "| balloon_10 | LARGE   | DIP     | \n",
       "| balloon_11 | SMALL   | STRETCH | \n",
       "| balloon_12 | SMALL   | STRETCH | \n",
       "| balloon_13 | SMALL   | DIP     | \n",
       "| balloon_14 | SMALL   | DIP     | \n",
       "| balloon_15 | SMALL   | DIP     | \n",
       "| balloon_16 | LARGE   | STRETCH | \n",
       "| balloon_17 | LARGE   | STRETCH | \n",
       "| balloon_18 | LARGE   | DIP     | \n",
       "| balloon_19 | LARGE   | DIP     | \n",
       "| balloon_20 | LARGE   | DIP     | \n",
       "\n",
       "\n"
      ],
      "text/plain": [
       "           size  act    \n",
       "balloon_1  SMALL STRETCH\n",
       "balloon_2  SMALL STRETCH\n",
       "balloon_3  SMALL DIP    \n",
       "balloon_4  SMALL DIP    \n",
       "balloon_5  SMALL DIP    \n",
       "balloon_6  LARGE STRETCH\n",
       "balloon_7  LARGE STRETCH\n",
       "balloon_8  LARGE DIP    \n",
       "balloon_9  LARGE DIP    \n",
       "balloon_10 LARGE DIP    \n",
       "balloon_11 SMALL STRETCH\n",
       "balloon_12 SMALL STRETCH\n",
       "balloon_13 SMALL DIP    \n",
       "balloon_14 SMALL DIP    \n",
       "balloon_15 SMALL DIP    \n",
       "balloon_16 LARGE STRETCH\n",
       "balloon_17 LARGE STRETCH\n",
       "balloon_18 LARGE DIP    \n",
       "balloon_19 LARGE DIP    \n",
       "balloon_20 LARGE DIP    "
      ]
     },
     "metadata": {},
     "output_type": "display_data"
    }
   ],
   "source": [
    "balloons[c('size','act')]"
   ]
  },
  {
   "cell_type": "markdown",
   "metadata": {},
   "source": [
    "## Rows are filtered DataFrames"
   ]
  },
  {
   "cell_type": "code",
   "execution_count": 24,
   "metadata": {
    "scrolled": true
   },
   "outputs": [
    {
     "data": {
      "text/html": [
       "<table>\n",
       "<thead><tr><th></th><th scope=col>color</th><th scope=col>size</th><th scope=col>act</th><th scope=col>age</th><th scope=col>inflated</th></tr></thead>\n",
       "<tbody>\n",
       "\t<tr><th scope=row>balloon_1</th><td>YELLOW </td><td>SMALL  </td><td>STRETCH</td><td>ADULT  </td><td>TRUE   </td></tr>\n",
       "</tbody>\n",
       "</table>\n"
      ],
      "text/latex": [
       "\\begin{tabular}{r|lllll}\n",
       "  & color & size & act & age & inflated\\\\\n",
       "\\hline\n",
       "\tballoon\\_1 & YELLOW  & SMALL   & STRETCH & ADULT   & TRUE   \\\\\n",
       "\\end{tabular}\n"
      ],
      "text/markdown": [
       "\n",
       "| <!--/--> | color | size | act | age | inflated | \n",
       "|---|\n",
       "| balloon_1 | YELLOW  | SMALL   | STRETCH | ADULT   | TRUE    | \n",
       "\n",
       "\n"
      ],
      "text/plain": [
       "          color  size  act     age   inflated\n",
       "balloon_1 YELLOW SMALL STRETCH ADULT TRUE    "
      ]
     },
     "metadata": {},
     "output_type": "display_data"
    }
   ],
   "source": [
    "balloons['balloon_1',]"
   ]
  },
  {
   "cell_type": "code",
   "execution_count": 25,
   "metadata": {},
   "outputs": [
    {
     "data": {
      "text/html": [
       "<table>\n",
       "<thead><tr><th></th><th scope=col>color</th><th scope=col>size</th><th scope=col>act</th><th scope=col>age</th><th scope=col>inflated</th></tr></thead>\n",
       "<tbody>\n",
       "\t<tr><th scope=row>balloon_1</th><td>YELLOW </td><td>SMALL  </td><td>STRETCH</td><td>ADULT  </td><td>TRUE   </td></tr>\n",
       "\t<tr><th scope=row>balloon_2</th><td>YELLOW </td><td>SMALL  </td><td>STRETCH</td><td>CHILD  </td><td>TRUE   </td></tr>\n",
       "\t<tr><th scope=row>balloon_3</th><td>YELLOW </td><td>SMALL  </td><td>DIP    </td><td>ADULT  </td><td>TRUE   </td></tr>\n",
       "</tbody>\n",
       "</table>\n"
      ],
      "text/latex": [
       "\\begin{tabular}{r|lllll}\n",
       "  & color & size & act & age & inflated\\\\\n",
       "\\hline\n",
       "\tballoon\\_1 & YELLOW  & SMALL   & STRETCH & ADULT   & TRUE   \\\\\n",
       "\tballoon\\_2 & YELLOW  & SMALL   & STRETCH & CHILD   & TRUE   \\\\\n",
       "\tballoon\\_3 & YELLOW  & SMALL   & DIP     & ADULT   & TRUE   \\\\\n",
       "\\end{tabular}\n"
      ],
      "text/markdown": [
       "\n",
       "| <!--/--> | color | size | act | age | inflated | \n",
       "|---|---|---|\n",
       "| balloon_1 | YELLOW  | SMALL   | STRETCH | ADULT   | TRUE    | \n",
       "| balloon_2 | YELLOW  | SMALL   | STRETCH | CHILD   | TRUE    | \n",
       "| balloon_3 | YELLOW  | SMALL   | DIP     | ADULT   | TRUE    | \n",
       "\n",
       "\n"
      ],
      "text/plain": [
       "          color  size  act     age   inflated\n",
       "balloon_1 YELLOW SMALL STRETCH ADULT TRUE    \n",
       "balloon_2 YELLOW SMALL STRETCH CHILD TRUE    \n",
       "balloon_3 YELLOW SMALL DIP     ADULT TRUE    "
      ]
     },
     "metadata": {},
     "output_type": "display_data"
    }
   ],
   "source": [
    "balloons[paste(\"balloon_\", 1:3, sep=\"\"),]"
   ]
  },
  {
   "cell_type": "code",
   "execution_count": 26,
   "metadata": {},
   "outputs": [
    {
     "data": {
      "text/html": [
       "<ol class=list-inline>\n",
       "\t<li>FALSE</li>\n",
       "\t<li>FALSE</li>\n",
       "\t<li>FALSE</li>\n",
       "\t<li>FALSE</li>\n",
       "\t<li>FALSE</li>\n",
       "\t<li>FALSE</li>\n",
       "\t<li>FALSE</li>\n",
       "\t<li>FALSE</li>\n",
       "\t<li>FALSE</li>\n",
       "\t<li>TRUE</li>\n",
       "\t<li>TRUE</li>\n",
       "\t<li>TRUE</li>\n",
       "\t<li>TRUE</li>\n",
       "\t<li>TRUE</li>\n",
       "\t<li>TRUE</li>\n",
       "\t<li>TRUE</li>\n",
       "\t<li>TRUE</li>\n",
       "\t<li>TRUE</li>\n",
       "\t<li>TRUE</li>\n",
       "\t<li>FALSE</li>\n",
       "</ol>\n"
      ],
      "text/latex": [
       "\\begin{enumerate*}\n",
       "\\item FALSE\n",
       "\\item FALSE\n",
       "\\item FALSE\n",
       "\\item FALSE\n",
       "\\item FALSE\n",
       "\\item FALSE\n",
       "\\item FALSE\n",
       "\\item FALSE\n",
       "\\item FALSE\n",
       "\\item TRUE\n",
       "\\item TRUE\n",
       "\\item TRUE\n",
       "\\item TRUE\n",
       "\\item TRUE\n",
       "\\item TRUE\n",
       "\\item TRUE\n",
       "\\item TRUE\n",
       "\\item TRUE\n",
       "\\item TRUE\n",
       "\\item FALSE\n",
       "\\end{enumerate*}\n"
      ],
      "text/markdown": [
       "1. FALSE\n",
       "2. FALSE\n",
       "3. FALSE\n",
       "4. FALSE\n",
       "5. FALSE\n",
       "6. FALSE\n",
       "7. FALSE\n",
       "8. FALSE\n",
       "9. FALSE\n",
       "10. TRUE\n",
       "11. TRUE\n",
       "12. TRUE\n",
       "13. TRUE\n",
       "14. TRUE\n",
       "15. TRUE\n",
       "16. TRUE\n",
       "17. TRUE\n",
       "18. TRUE\n",
       "19. TRUE\n",
       "20. FALSE\n",
       "\n",
       "\n"
      ],
      "text/plain": [
       " [1] FALSE FALSE FALSE FALSE FALSE FALSE FALSE FALSE FALSE  TRUE  TRUE  TRUE\n",
       "[13]  TRUE  TRUE  TRUE  TRUE  TRUE  TRUE  TRUE FALSE"
      ]
     },
     "metadata": {},
     "output_type": "display_data"
    }
   ],
   "source": [
    "grepl('_1.', rownames(balloons))"
   ]
  },
  {
   "cell_type": "code",
   "execution_count": 37,
   "metadata": {},
   "outputs": [
    {
     "data": {
      "text/html": [
       "<table>\n",
       "<thead><tr><th></th><th scope=col>color</th><th scope=col>size</th><th scope=col>act</th><th scope=col>age</th><th scope=col>inflated</th></tr></thead>\n",
       "<tbody>\n",
       "\t<tr><th scope=row>balloon_10</th><td>YELLOW </td><td>LARGE  </td><td>DIP    </td><td>CHILD  </td><td>FALSE  </td></tr>\n",
       "\t<tr><th scope=row>balloon_11</th><td>PURPLE </td><td>SMALL  </td><td>STRETCH</td><td>ADULT  </td><td> TRUE  </td></tr>\n",
       "\t<tr><th scope=row>balloon_12</th><td>PURPLE </td><td>SMALL  </td><td>STRETCH</td><td>CHILD  </td><td> TRUE  </td></tr>\n",
       "\t<tr><th scope=row>balloon_13</th><td>PURPLE </td><td>SMALL  </td><td>DIP    </td><td>ADULT  </td><td> TRUE  </td></tr>\n",
       "\t<tr><th scope=row>balloon_14</th><td>PURPLE </td><td>SMALL  </td><td>DIP    </td><td>CHILD  </td><td>FALSE  </td></tr>\n",
       "\t<tr><th scope=row>balloon_15</th><td>PURPLE </td><td>SMALL  </td><td>DIP    </td><td>CHILD  </td><td>FALSE  </td></tr>\n",
       "\t<tr><th scope=row>balloon_16</th><td>PURPLE </td><td>LARGE  </td><td>STRETCH</td><td>ADULT  </td><td> TRUE  </td></tr>\n",
       "\t<tr><th scope=row>balloon_17</th><td>PURPLE </td><td>LARGE  </td><td>STRETCH</td><td>CHILD  </td><td> TRUE  </td></tr>\n",
       "\t<tr><th scope=row>balloon_18</th><td>PURPLE </td><td>LARGE  </td><td>DIP    </td><td>ADULT  </td><td> TRUE  </td></tr>\n",
       "\t<tr><th scope=row>balloon_19</th><td>PURPLE </td><td>LARGE  </td><td>DIP    </td><td>CHILD  </td><td>FALSE  </td></tr>\n",
       "</tbody>\n",
       "</table>\n"
      ],
      "text/latex": [
       "\\begin{tabular}{r|lllll}\n",
       "  & color & size & act & age & inflated\\\\\n",
       "\\hline\n",
       "\tballoon\\_10 & YELLOW  & LARGE   & DIP     & CHILD   & FALSE  \\\\\n",
       "\tballoon\\_11 & PURPLE  & SMALL   & STRETCH & ADULT   &  TRUE  \\\\\n",
       "\tballoon\\_12 & PURPLE  & SMALL   & STRETCH & CHILD   &  TRUE  \\\\\n",
       "\tballoon\\_13 & PURPLE  & SMALL   & DIP     & ADULT   &  TRUE  \\\\\n",
       "\tballoon\\_14 & PURPLE  & SMALL   & DIP     & CHILD   & FALSE  \\\\\n",
       "\tballoon\\_15 & PURPLE  & SMALL   & DIP     & CHILD   & FALSE  \\\\\n",
       "\tballoon\\_16 & PURPLE  & LARGE   & STRETCH & ADULT   &  TRUE  \\\\\n",
       "\tballoon\\_17 & PURPLE  & LARGE   & STRETCH & CHILD   &  TRUE  \\\\\n",
       "\tballoon\\_18 & PURPLE  & LARGE   & DIP     & ADULT   &  TRUE  \\\\\n",
       "\tballoon\\_19 & PURPLE  & LARGE   & DIP     & CHILD   & FALSE  \\\\\n",
       "\\end{tabular}\n"
      ],
      "text/markdown": [
       "\n",
       "| <!--/--> | color | size | act | age | inflated | \n",
       "|---|---|---|---|---|---|---|---|---|---|\n",
       "| balloon_10 | YELLOW  | LARGE   | DIP     | CHILD   | FALSE   | \n",
       "| balloon_11 | PURPLE  | SMALL   | STRETCH | ADULT   |  TRUE   | \n",
       "| balloon_12 | PURPLE  | SMALL   | STRETCH | CHILD   |  TRUE   | \n",
       "| balloon_13 | PURPLE  | SMALL   | DIP     | ADULT   |  TRUE   | \n",
       "| balloon_14 | PURPLE  | SMALL   | DIP     | CHILD   | FALSE   | \n",
       "| balloon_15 | PURPLE  | SMALL   | DIP     | CHILD   | FALSE   | \n",
       "| balloon_16 | PURPLE  | LARGE   | STRETCH | ADULT   |  TRUE   | \n",
       "| balloon_17 | PURPLE  | LARGE   | STRETCH | CHILD   |  TRUE   | \n",
       "| balloon_18 | PURPLE  | LARGE   | DIP     | ADULT   |  TRUE   | \n",
       "| balloon_19 | PURPLE  | LARGE   | DIP     | CHILD   | FALSE   | \n",
       "\n",
       "\n"
      ],
      "text/plain": [
       "           color  size  act     age   inflated\n",
       "balloon_10 YELLOW LARGE DIP     CHILD FALSE   \n",
       "balloon_11 PURPLE SMALL STRETCH ADULT  TRUE   \n",
       "balloon_12 PURPLE SMALL STRETCH CHILD  TRUE   \n",
       "balloon_13 PURPLE SMALL DIP     ADULT  TRUE   \n",
       "balloon_14 PURPLE SMALL DIP     CHILD FALSE   \n",
       "balloon_15 PURPLE SMALL DIP     CHILD FALSE   \n",
       "balloon_16 PURPLE LARGE STRETCH ADULT  TRUE   \n",
       "balloon_17 PURPLE LARGE STRETCH CHILD  TRUE   \n",
       "balloon_18 PURPLE LARGE DIP     ADULT  TRUE   \n",
       "balloon_19 PURPLE LARGE DIP     CHILD FALSE   "
      ]
     },
     "metadata": {},
     "output_type": "display_data"
    }
   ],
   "source": [
    "balloons[grepl('_1\\\\d', rownames(balloons)),]"
   ]
  },
  {
   "cell_type": "code",
   "execution_count": 33,
   "metadata": {},
   "outputs": [
    {
     "data": {
      "text/html": [
       "<table>\n",
       "<thead><tr><th></th><th scope=col>color</th><th scope=col>size</th><th scope=col>act</th><th scope=col>age</th><th scope=col>inflated</th></tr></thead>\n",
       "<tbody>\n",
       "\t<tr><th scope=row>balloon_11</th><td>PURPLE </td><td>SMALL  </td><td>STRETCH</td><td>ADULT  </td><td> TRUE  </td></tr>\n",
       "\t<tr><th scope=row>balloon_12</th><td>PURPLE </td><td>SMALL  </td><td>STRETCH</td><td>CHILD  </td><td> TRUE  </td></tr>\n",
       "\t<tr><th scope=row>balloon_13</th><td>PURPLE </td><td>SMALL  </td><td>DIP    </td><td>ADULT  </td><td> TRUE  </td></tr>\n",
       "\t<tr><th scope=row>balloon_14</th><td>PURPLE </td><td>SMALL  </td><td>DIP    </td><td>CHILD  </td><td>FALSE  </td></tr>\n",
       "\t<tr><th scope=row>balloon_15</th><td>PURPLE </td><td>SMALL  </td><td>DIP    </td><td>CHILD  </td><td>FALSE  </td></tr>\n",
       "\t<tr><th scope=row>balloon_16</th><td>PURPLE </td><td>LARGE  </td><td>STRETCH</td><td>ADULT  </td><td> TRUE  </td></tr>\n",
       "\t<tr><th scope=row>balloon_17</th><td>PURPLE </td><td>LARGE  </td><td>STRETCH</td><td>CHILD  </td><td> TRUE  </td></tr>\n",
       "\t<tr><th scope=row>balloon_18</th><td>PURPLE </td><td>LARGE  </td><td>DIP    </td><td>ADULT  </td><td> TRUE  </td></tr>\n",
       "\t<tr><th scope=row>balloon_19</th><td>PURPLE </td><td>LARGE  </td><td>DIP    </td><td>CHILD  </td><td>FALSE  </td></tr>\n",
       "\t<tr><th scope=row>balloon_20</th><td>PURPLE </td><td>LARGE  </td><td>DIP    </td><td>CHILD  </td><td>FALSE  </td></tr>\n",
       "</tbody>\n",
       "</table>\n"
      ],
      "text/latex": [
       "\\begin{tabular}{r|lllll}\n",
       "  & color & size & act & age & inflated\\\\\n",
       "\\hline\n",
       "\tballoon\\_11 & PURPLE  & SMALL   & STRETCH & ADULT   &  TRUE  \\\\\n",
       "\tballoon\\_12 & PURPLE  & SMALL   & STRETCH & CHILD   &  TRUE  \\\\\n",
       "\tballoon\\_13 & PURPLE  & SMALL   & DIP     & ADULT   &  TRUE  \\\\\n",
       "\tballoon\\_14 & PURPLE  & SMALL   & DIP     & CHILD   & FALSE  \\\\\n",
       "\tballoon\\_15 & PURPLE  & SMALL   & DIP     & CHILD   & FALSE  \\\\\n",
       "\tballoon\\_16 & PURPLE  & LARGE   & STRETCH & ADULT   &  TRUE  \\\\\n",
       "\tballoon\\_17 & PURPLE  & LARGE   & STRETCH & CHILD   &  TRUE  \\\\\n",
       "\tballoon\\_18 & PURPLE  & LARGE   & DIP     & ADULT   &  TRUE  \\\\\n",
       "\tballoon\\_19 & PURPLE  & LARGE   & DIP     & CHILD   & FALSE  \\\\\n",
       "\tballoon\\_20 & PURPLE  & LARGE   & DIP     & CHILD   & FALSE  \\\\\n",
       "\\end{tabular}\n"
      ],
      "text/markdown": [
       "\n",
       "| <!--/--> | color | size | act | age | inflated | \n",
       "|---|---|---|---|---|---|---|---|---|---|\n",
       "| balloon_11 | PURPLE  | SMALL   | STRETCH | ADULT   |  TRUE   | \n",
       "| balloon_12 | PURPLE  | SMALL   | STRETCH | CHILD   |  TRUE   | \n",
       "| balloon_13 | PURPLE  | SMALL   | DIP     | ADULT   |  TRUE   | \n",
       "| balloon_14 | PURPLE  | SMALL   | DIP     | CHILD   | FALSE   | \n",
       "| balloon_15 | PURPLE  | SMALL   | DIP     | CHILD   | FALSE   | \n",
       "| balloon_16 | PURPLE  | LARGE   | STRETCH | ADULT   |  TRUE   | \n",
       "| balloon_17 | PURPLE  | LARGE   | STRETCH | CHILD   |  TRUE   | \n",
       "| balloon_18 | PURPLE  | LARGE   | DIP     | ADULT   |  TRUE   | \n",
       "| balloon_19 | PURPLE  | LARGE   | DIP     | CHILD   | FALSE   | \n",
       "| balloon_20 | PURPLE  | LARGE   | DIP     | CHILD   | FALSE   | \n",
       "\n",
       "\n"
      ],
      "text/plain": [
       "           color  size  act     age   inflated\n",
       "balloon_11 PURPLE SMALL STRETCH ADULT  TRUE   \n",
       "balloon_12 PURPLE SMALL STRETCH CHILD  TRUE   \n",
       "balloon_13 PURPLE SMALL DIP     ADULT  TRUE   \n",
       "balloon_14 PURPLE SMALL DIP     CHILD FALSE   \n",
       "balloon_15 PURPLE SMALL DIP     CHILD FALSE   \n",
       "balloon_16 PURPLE LARGE STRETCH ADULT  TRUE   \n",
       "balloon_17 PURPLE LARGE STRETCH CHILD  TRUE   \n",
       "balloon_18 PURPLE LARGE DIP     ADULT  TRUE   \n",
       "balloon_19 PURPLE LARGE DIP     CHILD FALSE   \n",
       "balloon_20 PURPLE LARGE DIP     CHILD FALSE   "
      ]
     },
     "metadata": {},
     "output_type": "display_data"
    }
   ],
   "source": [
    "balloons[balloons$color == 'PURPLE',]"
   ]
  },
  {
   "cell_type": "code",
   "execution_count": 34,
   "metadata": {},
   "outputs": [
    {
     "data": {
      "text/html": [
       "<table>\n",
       "<thead><tr><th></th><th scope=col>color</th><th scope=col>size</th><th scope=col>act</th><th scope=col>age</th><th scope=col>inflated</th></tr></thead>\n",
       "<tbody>\n",
       "\t<tr><th scope=row>balloon_3</th><td>YELLOW</td><td>SMALL </td><td>DIP   </td><td>ADULT </td><td> TRUE </td></tr>\n",
       "\t<tr><th scope=row>balloon_4</th><td>YELLOW</td><td>SMALL </td><td>DIP   </td><td>CHILD </td><td>FALSE </td></tr>\n",
       "\t<tr><th scope=row>balloon_5</th><td>YELLOW</td><td>SMALL </td><td>DIP   </td><td>CHILD </td><td>FALSE </td></tr>\n",
       "\t<tr><th scope=row>balloon_8</th><td>YELLOW</td><td>LARGE </td><td>DIP   </td><td>ADULT </td><td> TRUE </td></tr>\n",
       "\t<tr><th scope=row>balloon_9</th><td>YELLOW</td><td>LARGE </td><td>DIP   </td><td>CHILD </td><td>FALSE </td></tr>\n",
       "\t<tr><th scope=row>balloon_10</th><td>YELLOW</td><td>LARGE </td><td>DIP   </td><td>CHILD </td><td>FALSE </td></tr>\n",
       "\t<tr><th scope=row>balloon_13</th><td>PURPLE</td><td>SMALL </td><td>DIP   </td><td>ADULT </td><td> TRUE </td></tr>\n",
       "\t<tr><th scope=row>balloon_14</th><td>PURPLE</td><td>SMALL </td><td>DIP   </td><td>CHILD </td><td>FALSE </td></tr>\n",
       "\t<tr><th scope=row>balloon_15</th><td>PURPLE</td><td>SMALL </td><td>DIP   </td><td>CHILD </td><td>FALSE </td></tr>\n",
       "\t<tr><th scope=row>balloon_18</th><td>PURPLE</td><td>LARGE </td><td>DIP   </td><td>ADULT </td><td> TRUE </td></tr>\n",
       "\t<tr><th scope=row>balloon_19</th><td>PURPLE</td><td>LARGE </td><td>DIP   </td><td>CHILD </td><td>FALSE </td></tr>\n",
       "\t<tr><th scope=row>balloon_20</th><td>PURPLE</td><td>LARGE </td><td>DIP   </td><td>CHILD </td><td>FALSE </td></tr>\n",
       "</tbody>\n",
       "</table>\n"
      ],
      "text/latex": [
       "\\begin{tabular}{r|lllll}\n",
       "  & color & size & act & age & inflated\\\\\n",
       "\\hline\n",
       "\tballoon\\_3 & YELLOW & SMALL  & DIP    & ADULT  &  TRUE \\\\\n",
       "\tballoon\\_4 & YELLOW & SMALL  & DIP    & CHILD  & FALSE \\\\\n",
       "\tballoon\\_5 & YELLOW & SMALL  & DIP    & CHILD  & FALSE \\\\\n",
       "\tballoon\\_8 & YELLOW & LARGE  & DIP    & ADULT  &  TRUE \\\\\n",
       "\tballoon\\_9 & YELLOW & LARGE  & DIP    & CHILD  & FALSE \\\\\n",
       "\tballoon\\_10 & YELLOW & LARGE  & DIP    & CHILD  & FALSE \\\\\n",
       "\tballoon\\_13 & PURPLE & SMALL  & DIP    & ADULT  &  TRUE \\\\\n",
       "\tballoon\\_14 & PURPLE & SMALL  & DIP    & CHILD  & FALSE \\\\\n",
       "\tballoon\\_15 & PURPLE & SMALL  & DIP    & CHILD  & FALSE \\\\\n",
       "\tballoon\\_18 & PURPLE & LARGE  & DIP    & ADULT  &  TRUE \\\\\n",
       "\tballoon\\_19 & PURPLE & LARGE  & DIP    & CHILD  & FALSE \\\\\n",
       "\tballoon\\_20 & PURPLE & LARGE  & DIP    & CHILD  & FALSE \\\\\n",
       "\\end{tabular}\n"
      ],
      "text/markdown": [
       "\n",
       "| <!--/--> | color | size | act | age | inflated | \n",
       "|---|---|---|---|---|---|---|---|---|---|---|---|\n",
       "| balloon_3 | YELLOW | SMALL  | DIP    | ADULT  |  TRUE  | \n",
       "| balloon_4 | YELLOW | SMALL  | DIP    | CHILD  | FALSE  | \n",
       "| balloon_5 | YELLOW | SMALL  | DIP    | CHILD  | FALSE  | \n",
       "| balloon_8 | YELLOW | LARGE  | DIP    | ADULT  |  TRUE  | \n",
       "| balloon_9 | YELLOW | LARGE  | DIP    | CHILD  | FALSE  | \n",
       "| balloon_10 | YELLOW | LARGE  | DIP    | CHILD  | FALSE  | \n",
       "| balloon_13 | PURPLE | SMALL  | DIP    | ADULT  |  TRUE  | \n",
       "| balloon_14 | PURPLE | SMALL  | DIP    | CHILD  | FALSE  | \n",
       "| balloon_15 | PURPLE | SMALL  | DIP    | CHILD  | FALSE  | \n",
       "| balloon_18 | PURPLE | LARGE  | DIP    | ADULT  |  TRUE  | \n",
       "| balloon_19 | PURPLE | LARGE  | DIP    | CHILD  | FALSE  | \n",
       "| balloon_20 | PURPLE | LARGE  | DIP    | CHILD  | FALSE  | \n",
       "\n",
       "\n"
      ],
      "text/plain": [
       "           color  size  act age   inflated\n",
       "balloon_3  YELLOW SMALL DIP ADULT  TRUE   \n",
       "balloon_4  YELLOW SMALL DIP CHILD FALSE   \n",
       "balloon_5  YELLOW SMALL DIP CHILD FALSE   \n",
       "balloon_8  YELLOW LARGE DIP ADULT  TRUE   \n",
       "balloon_9  YELLOW LARGE DIP CHILD FALSE   \n",
       "balloon_10 YELLOW LARGE DIP CHILD FALSE   \n",
       "balloon_13 PURPLE SMALL DIP ADULT  TRUE   \n",
       "balloon_14 PURPLE SMALL DIP CHILD FALSE   \n",
       "balloon_15 PURPLE SMALL DIP CHILD FALSE   \n",
       "balloon_18 PURPLE LARGE DIP ADULT  TRUE   \n",
       "balloon_19 PURPLE LARGE DIP CHILD FALSE   \n",
       "balloon_20 PURPLE LARGE DIP CHILD FALSE   "
      ]
     },
     "metadata": {},
     "output_type": "display_data"
    }
   ],
   "source": [
    "balloons[balloons$act == 'DIP',]"
   ]
  },
  {
   "cell_type": "code",
   "execution_count": 35,
   "metadata": {},
   "outputs": [
    {
     "data": {
      "text/plain": [
       "    color       size         act        age      inflated      \n",
       " PURPLE:10   LARGE:10   DIP    :12   ADULT: 8   Mode :logical  \n",
       " YELLOW:10   SMALL:10   STRETCH: 8   CHILD:12   FALSE:8        \n",
       "                                                TRUE :12       \n",
       "                                                NA's :0        "
      ]
     },
     "metadata": {},
     "output_type": "display_data"
    }
   ],
   "source": [
    "summary(balloons)"
   ]
  },
  {
   "cell_type": "markdown",
   "metadata": {},
   "source": [
    "## Practice"
   ]
  },
  {
   "cell_type": "markdown",
   "metadata": {},
   "source": [
    "#### Display the yellow balloons"
   ]
  },
  {
   "cell_type": "code",
   "execution_count": null,
   "metadata": {},
   "outputs": [],
   "source": []
  },
  {
   "cell_type": "markdown",
   "metadata": {},
   "source": [
    "#### Display the inflated balloons"
   ]
  },
  {
   "cell_type": "code",
   "execution_count": null,
   "metadata": {},
   "outputs": [],
   "source": []
  },
  {
   "cell_type": "markdown",
   "metadata": {},
   "source": [
    "#### Display the stretching balloons"
   ]
  },
  {
   "cell_type": "code",
   "execution_count": null,
   "metadata": {},
   "outputs": [],
   "source": []
  },
  {
   "cell_type": "markdown",
   "metadata": {},
   "source": [
    "#### Display the large balloons"
   ]
  },
  {
   "cell_type": "code",
   "execution_count": null,
   "metadata": {},
   "outputs": [],
   "source": []
  },
  {
   "cell_type": "markdown",
   "metadata": {},
   "source": [
    "#### Display the yellow balloons"
   ]
  },
  {
   "cell_type": "code",
   "execution_count": null,
   "metadata": {},
   "outputs": [],
   "source": []
  },
  {
   "cell_type": "markdown",
   "metadata": {},
   "source": [
    "#### Display just the color and size columns"
   ]
  },
  {
   "cell_type": "code",
   "execution_count": null,
   "metadata": {},
   "outputs": [],
   "source": []
  },
  {
   "cell_type": "markdown",
   "metadata": {},
   "source": [
    "#### Display just the color and size columns for large, yellow balloons"
   ]
  },
  {
   "cell_type": "code",
   "execution_count": null,
   "metadata": {},
   "outputs": [],
   "source": []
  }
 ],
 "metadata": {
  "kernelspec": {
   "display_name": "R",
   "language": "R",
   "name": "ir"
  },
  "language_info": {
   "codemirror_mode": "r",
   "file_extension": ".r",
   "mimetype": "text/x-r-source",
   "name": "R",
   "pygments_lexer": "r",
   "version": "3.3.2"
  }
 },
 "nbformat": 4,
 "nbformat_minor": 2
}
