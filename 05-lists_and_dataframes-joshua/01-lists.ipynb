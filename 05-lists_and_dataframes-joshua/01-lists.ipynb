{
 "cells": [
  {
   "cell_type": "markdown",
   "metadata": {},
   "source": [
    "# Lists"
   ]
  },
  {
   "cell_type": "markdown",
   "metadata": {},
   "source": [
    "It is considered a best practice to use string names for your **tags** in a list."
   ]
  },
  {
   "cell_type": "code",
   "execution_count": 1,
   "metadata": {},
   "outputs": [],
   "source": [
    "j <- list(name=\"Joe\", salary=55000, union=T)"
   ]
  },
  {
   "cell_type": "code",
   "execution_count": 2,
   "metadata": {},
   "outputs": [
    {
     "data": {
      "text/html": [
       "<dl>\n",
       "\t<dt>$name</dt>\n",
       "\t\t<dd>'Joe'</dd>\n",
       "\t<dt>$salary</dt>\n",
       "\t\t<dd>55000</dd>\n",
       "\t<dt>$union</dt>\n",
       "\t\t<dd>TRUE</dd>\n",
       "</dl>\n"
      ],
      "text/latex": [
       "\\begin{description}\n",
       "\\item[\\$name] 'Joe'\n",
       "\\item[\\$salary] 55000\n",
       "\\item[\\$union] TRUE\n",
       "\\end{description}\n"
      ],
      "text/markdown": [
       "$name\n",
       ":   'Joe'\n",
       "$salary\n",
       ":   55000\n",
       "$union\n",
       ":   TRUE\n",
       "\n",
       "\n"
      ],
      "text/plain": [
       "$name\n",
       "[1] \"Joe\"\n",
       "\n",
       "$salary\n",
       "[1] 55000\n",
       "\n",
       "$union\n",
       "[1] TRUE\n"
      ]
     },
     "metadata": {},
     "output_type": "display_data"
    }
   ],
   "source": [
    "j"
   ]
  },
  {
   "cell_type": "markdown",
   "metadata": {},
   "source": [
    "##### Don't do this"
   ]
  },
  {
   "cell_type": "code",
   "execution_count": 3,
   "metadata": {},
   "outputs": [],
   "source": [
    "j_dontdo <- list(\"Joe\",55000,T)"
   ]
  },
  {
   "cell_type": "code",
   "execution_count": 4,
   "metadata": {},
   "outputs": [
    {
     "data": {
      "text/html": [
       "<ol>\n",
       "\t<li>'Joe'</li>\n",
       "\t<li>55000</li>\n",
       "\t<li>TRUE</li>\n",
       "</ol>\n"
      ],
      "text/latex": [
       "\\begin{enumerate}\n",
       "\\item 'Joe'\n",
       "\\item 55000\n",
       "\\item TRUE\n",
       "\\end{enumerate}\n"
      ],
      "text/markdown": [
       "1. 'Joe'\n",
       "2. 55000\n",
       "3. TRUE\n",
       "\n",
       "\n"
      ],
      "text/plain": [
       "[[1]]\n",
       "[1] \"Joe\"\n",
       "\n",
       "[[2]]\n",
       "[1] 55000\n",
       "\n",
       "[[3]]\n",
       "[1] TRUE\n"
      ]
     },
     "metadata": {},
     "output_type": "display_data"
    }
   ],
   "source": [
    "j_dontdo"
   ]
  },
  {
   "cell_type": "markdown",
   "metadata": {},
   "source": [
    "## Accessing List Components"
   ]
  },
  {
   "cell_type": "code",
   "execution_count": 5,
   "metadata": {},
   "outputs": [
    {
     "data": {
      "text/html": [
       "'Joe'"
      ],
      "text/latex": [
       "'Joe'"
      ],
      "text/markdown": [
       "'Joe'"
      ],
      "text/plain": [
       "[1] \"Joe\""
      ]
     },
     "metadata": {},
     "output_type": "display_data"
    }
   ],
   "source": [
    "j$name"
   ]
  },
  {
   "cell_type": "code",
   "execution_count": 6,
   "metadata": {},
   "outputs": [
    {
     "data": {
      "text/html": [
       "<strong>$salary</strong> = 55000"
      ],
      "text/latex": [
       "\\textbf{\\$salary} = 55000"
      ],
      "text/markdown": [
       "**$salary** = 55000"
      ],
      "text/plain": [
       "$salary\n",
       "[1] 55000\n"
      ]
     },
     "metadata": {},
     "output_type": "display_data"
    }
   ],
   "source": [
    "j['salary']"
   ]
  },
  {
   "cell_type": "code",
   "execution_count": 7,
   "metadata": {},
   "outputs": [
    {
     "data": {
      "text/html": [
       "<strong>$union</strong> = TRUE"
      ],
      "text/latex": [
       "\\textbf{\\$union} = TRUE"
      ],
      "text/markdown": [
       "**$union** = TRUE"
      ],
      "text/plain": [
       "$union\n",
       "[1] TRUE\n"
      ]
     },
     "metadata": {},
     "output_type": "display_data"
    }
   ],
   "source": [
    "j[3]"
   ]
  },
  {
   "cell_type": "markdown",
   "metadata": {},
   "source": [
    "### Adding Components"
   ]
  },
  {
   "cell_type": "code",
   "execution_count": 8,
   "metadata": {},
   "outputs": [],
   "source": [
    "j$age <- 42.0"
   ]
  },
  {
   "cell_type": "code",
   "execution_count": 9,
   "metadata": {},
   "outputs": [
    {
     "data": {
      "text/html": [
       "<dl>\n",
       "\t<dt>$name</dt>\n",
       "\t\t<dd>'Joe'</dd>\n",
       "\t<dt>$salary</dt>\n",
       "\t\t<dd>55000</dd>\n",
       "\t<dt>$union</dt>\n",
       "\t\t<dd>TRUE</dd>\n",
       "\t<dt>$age</dt>\n",
       "\t\t<dd>42</dd>\n",
       "</dl>\n"
      ],
      "text/latex": [
       "\\begin{description}\n",
       "\\item[\\$name] 'Joe'\n",
       "\\item[\\$salary] 55000\n",
       "\\item[\\$union] TRUE\n",
       "\\item[\\$age] 42\n",
       "\\end{description}\n"
      ],
      "text/markdown": [
       "$name\n",
       ":   'Joe'\n",
       "$salary\n",
       ":   55000\n",
       "$union\n",
       ":   TRUE\n",
       "$age\n",
       ":   42\n",
       "\n",
       "\n"
      ],
      "text/plain": [
       "$name\n",
       "[1] \"Joe\"\n",
       "\n",
       "$salary\n",
       "[1] 55000\n",
       "\n",
       "$union\n",
       "[1] TRUE\n",
       "\n",
       "$age\n",
       "[1] 42\n"
      ]
     },
     "metadata": {},
     "output_type": "display_data"
    }
   ],
   "source": [
    "j"
   ]
  },
  {
   "cell_type": "code",
   "execution_count": 10,
   "metadata": {},
   "outputs": [],
   "source": [
    "j$union <- NULL"
   ]
  },
  {
   "cell_type": "code",
   "execution_count": 11,
   "metadata": {},
   "outputs": [
    {
     "data": {
      "text/html": [
       "<dl>\n",
       "\t<dt>$name</dt>\n",
       "\t\t<dd>'Joe'</dd>\n",
       "\t<dt>$salary</dt>\n",
       "\t\t<dd>55000</dd>\n",
       "\t<dt>$age</dt>\n",
       "\t\t<dd>42</dd>\n",
       "</dl>\n"
      ],
      "text/latex": [
       "\\begin{description}\n",
       "\\item[\\$name] 'Joe'\n",
       "\\item[\\$salary] 55000\n",
       "\\item[\\$age] 42\n",
       "\\end{description}\n"
      ],
      "text/markdown": [
       "$name\n",
       ":   'Joe'\n",
       "$salary\n",
       ":   55000\n",
       "$age\n",
       ":   42\n",
       "\n",
       "\n"
      ],
      "text/plain": [
       "$name\n",
       "[1] \"Joe\"\n",
       "\n",
       "$salary\n",
       "[1] 55000\n",
       "\n",
       "$age\n",
       "[1] 42\n"
      ]
     },
     "metadata": {},
     "output_type": "display_data"
    }
   ],
   "source": [
    "j"
   ]
  },
  {
   "cell_type": "markdown",
   "metadata": {},
   "source": [
    "### `length`\n",
    "\n",
    "Since a list is a vector, you can obtain the number of components in a list via `length()`."
   ]
  },
  {
   "cell_type": "code",
   "execution_count": 12,
   "metadata": {},
   "outputs": [
    {
     "data": {
      "text/html": [
       "3"
      ],
      "text/latex": [
       "3"
      ],
      "text/markdown": [
       "3"
      ],
      "text/plain": [
       "[1] 3"
      ]
     },
     "metadata": {},
     "output_type": "display_data"
    }
   ],
   "source": [
    "length(j)"
   ]
  },
  {
   "cell_type": "markdown",
   "metadata": {},
   "source": [
    "### `names`\n",
    "\n",
    "If the components in a list do have tags, as is the case with `name`, `salary`, and `age`, you can obtain them via `names()`:\n"
   ]
  },
  {
   "cell_type": "code",
   "execution_count": 13,
   "metadata": {},
   "outputs": [
    {
     "data": {
      "text/html": [
       "<ol class=list-inline>\n",
       "\t<li>'name'</li>\n",
       "\t<li>'salary'</li>\n",
       "\t<li>'age'</li>\n",
       "</ol>\n"
      ],
      "text/latex": [
       "\\begin{enumerate*}\n",
       "\\item 'name'\n",
       "\\item 'salary'\n",
       "\\item 'age'\n",
       "\\end{enumerate*}\n"
      ],
      "text/markdown": [
       "1. 'name'\n",
       "2. 'salary'\n",
       "3. 'age'\n",
       "\n",
       "\n"
      ],
      "text/plain": [
       "[1] \"name\"   \"salary\" \"age\"   "
      ]
     },
     "metadata": {},
     "output_type": "display_data"
    }
   ],
   "source": [
    "names(j)"
   ]
  },
  {
   "cell_type": "markdown",
   "metadata": {},
   "source": [
    "To obtain the values, use `unlist()`:"
   ]
  },
  {
   "cell_type": "code",
   "execution_count": 14,
   "metadata": {},
   "outputs": [
    {
     "data": {
      "text/html": [
       "<dl class=dl-horizontal>\n",
       "\t<dt>name</dt>\n",
       "\t\t<dd>'Joe'</dd>\n",
       "\t<dt>salary</dt>\n",
       "\t\t<dd>'55000'</dd>\n",
       "\t<dt>age</dt>\n",
       "\t\t<dd>'42'</dd>\n",
       "</dl>\n"
      ],
      "text/latex": [
       "\\begin{description*}\n",
       "\\item[name] 'Joe'\n",
       "\\item[salary] '55000'\n",
       "\\item[age] '42'\n",
       "\\end{description*}\n"
      ],
      "text/markdown": [
       "name\n",
       ":   'Joe'salary\n",
       ":   '55000'age\n",
       ":   '42'\n",
       "\n"
      ],
      "text/plain": [
       "   name  salary     age \n",
       "  \"Joe\" \"55000\"    \"42\" "
      ]
     },
     "metadata": {},
     "output_type": "display_data"
    }
   ],
   "source": [
    "unlist(j)"
   ]
  },
  {
   "cell_type": "markdown",
   "metadata": {},
   "source": [
    "### Why are these all strings?"
   ]
  },
  {
   "cell_type": "markdown",
   "metadata": {},
   "source": [
    "## Recursive Lists"
   ]
  },
  {
   "cell_type": "code",
   "execution_count": 15,
   "metadata": {},
   "outputs": [],
   "source": [
    "b <- list(u=5, v=12)\n",
    "c <- list(w=13)\n",
    "a <-list(b=b, c=c)"
   ]
  },
  {
   "cell_type": "code",
   "execution_count": 16,
   "metadata": {},
   "outputs": [
    {
     "data": {
      "text/html": [
       "<dl>\n",
       "\t<dt>$b</dt>\n",
       "\t\t<dd><dl>\n",
       "\t<dt>$u</dt>\n",
       "\t\t<dd>5</dd>\n",
       "\t<dt>$v</dt>\n",
       "\t\t<dd>12</dd>\n",
       "</dl>\n",
       "</dd>\n",
       "\t<dt>$c</dt>\n",
       "\t\t<dd><strong>$w</strong> = 13</dd>\n",
       "</dl>\n"
      ],
      "text/latex": [
       "\\begin{description}\n",
       "\\item[\\$b] \\begin{description}\n",
       "\\item[\\$u] 5\n",
       "\\item[\\$v] 12\n",
       "\\end{description}\n",
       "\n",
       "\\item[\\$c] \\textbf{\\$w} = 13\n",
       "\\end{description}\n"
      ],
      "text/markdown": [
       "$b\n",
       ":   $u\n",
       ":   5\n",
       "$v\n",
       ":   12\n",
       "\n",
       "\n",
       "\n",
       "$c\n",
       ":   **$w** = 13\n",
       "\n",
       "\n"
      ],
      "text/plain": [
       "$b\n",
       "$b$u\n",
       "[1] 5\n",
       "\n",
       "$b$v\n",
       "[1] 12\n",
       "\n",
       "\n",
       "$c\n",
       "$c$w\n",
       "[1] 13\n",
       "\n"
      ]
     },
     "metadata": {},
     "output_type": "display_data"
    }
   ],
   "source": [
    "a"
   ]
  },
  {
   "cell_type": "code",
   "execution_count": null,
   "metadata": {},
   "outputs": [],
   "source": []
  }
 ],
 "metadata": {
  "kernelspec": {
   "display_name": "R",
   "language": "R",
   "name": "ir"
  },
  "language_info": {
   "codemirror_mode": "r",
   "file_extension": ".r",
   "mimetype": "text/x-r-source",
   "name": "R",
   "pygments_lexer": "r",
   "version": "3.3.2"
  }
 },
 "nbformat": 4,
 "nbformat_minor": 2
}
