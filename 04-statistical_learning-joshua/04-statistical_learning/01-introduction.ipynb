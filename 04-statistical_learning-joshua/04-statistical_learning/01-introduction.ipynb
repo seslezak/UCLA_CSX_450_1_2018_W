{
 "cells": [
  {
   "cell_type": "markdown",
   "metadata": {
    "collapsed": true
   },
   "source": [
    "This notebook accompanies *An Introduction to Statistical Learning*, Chapter 1. This text is available as a free pdf [here](http://www-bcf.usc.edu/~gareth/ISL/). \n",
    "\n",
    "<img src=\"http://www-bcf.usc.edu/~gareth/ISL/ISL%20Cover%202.jpg\" width=250px>"
   ]
  },
  {
   "cell_type": "markdown",
   "metadata": {},
   "source": [
    "# An Introduction to Statistical Learning"
   ]
  },
  {
   "cell_type": "markdown",
   "metadata": {},
   "source": [
    "## Chapter 1 - Introduction"
   ]
  },
  {
   "cell_type": "markdown",
   "metadata": {},
   "source": [
    "**Statistical Learning** refers to a vast set of tools for **understanding data**. "
   ]
  },
  {
   "cell_type": "markdown",
   "metadata": {},
   "source": [
    "These tools can be classified as **supervised** or **unsupervised**. \n",
    "\n",
    "Broadly speaking, supervised statistical learning involves building a statistical model for predicting, or estimating, an output based on one or more inputs. \n",
    "\n",
    "With unsupervised statistical learning, there are inputs but no supervising output."
   ]
  },
  {
   "cell_type": "markdown",
   "metadata": {},
   "source": [
    "## Wage Data\n",
    "\n",
    "#### Domain \n",
    "\n",
    "This problem is drawn from the analysis of population demographic data. \n",
    "\n",
    "#### Problem Statement\n",
    "\n",
    "Given certain information about males from the United States, we will use supervised learning to develop a regression model that can predict a member of the population's wage.\n",
    "\n",
    "We examine a number of factors that relate to wages for a group of males from the Atlantic region of the United States. \n",
    "\n",
    "In particular, we wish to understand the association between an employee’s `age` and `education`, as well as the calendar `year`, on his `wage`.\n",
    "\n",
    "#### Dataset and Inputs\n",
    "\n",
    "The dataset to be examined contains survey information from the central Atlantic region of the United States. \n",
    "\n",
    "#### Solution Statement\n",
    "\n",
    "A solution to this problem will be a regression model such as a linear regression, a decision tree regressor, or a support vector regressor. \n",
    "\n",
    "#### Benchmark Model\n",
    "\n",
    "Given that we seek a regression model a good naive benchmark would be to use either the mean or the median of the wages for the dataset. \n",
    "\n",
    "#### Evaluation Metrics\n",
    "\n",
    "Given that this is a regression task, we can measure the success of our model using the $R^2$ metric, the Mean Absolute Error, or the Mean Squared Error.\n"
   ]
  },
  {
   "cell_type": "code",
   "execution_count": 1,
   "metadata": {},
   "outputs": [],
   "source": [
    "import matplotlib.pyplot as plt\n",
    "import numpy as np\n",
    "import pandas as pd\n",
    "import seaborn as sns\n",
    "%matplotlib inline"
   ]
  },
  {
   "cell_type": "code",
   "execution_count": 2,
   "metadata": {},
   "outputs": [
    {
     "data": {
      "text/html": [
       "<div>\n",
       "<table border=\"1\" class=\"dataframe\">\n",
       "  <thead>\n",
       "    <tr style=\"text-align: right;\">\n",
       "      <th></th>\n",
       "      <th>Unnamed: 0</th>\n",
       "      <th>year</th>\n",
       "      <th>age</th>\n",
       "      <th>sex</th>\n",
       "      <th>maritl</th>\n",
       "      <th>race</th>\n",
       "      <th>education</th>\n",
       "      <th>region</th>\n",
       "      <th>jobclass</th>\n",
       "      <th>health</th>\n",
       "      <th>health_ins</th>\n",
       "      <th>logwage</th>\n",
       "      <th>wage</th>\n",
       "    </tr>\n",
       "  </thead>\n",
       "  <tbody>\n",
       "    <tr>\n",
       "      <th>1574</th>\n",
       "      <td>450118</td>\n",
       "      <td>2009</td>\n",
       "      <td>47</td>\n",
       "      <td>1. Male</td>\n",
       "      <td>4. Divorced</td>\n",
       "      <td>1. White</td>\n",
       "      <td>2. HS Grad</td>\n",
       "      <td>2. Middle Atlantic</td>\n",
       "      <td>1. Industrial</td>\n",
       "      <td>1. &lt;=Good</td>\n",
       "      <td>1. Yes</td>\n",
       "      <td>4.505150</td>\n",
       "      <td>90.481913</td>\n",
       "    </tr>\n",
       "    <tr>\n",
       "      <th>640</th>\n",
       "      <td>374391</td>\n",
       "      <td>2008</td>\n",
       "      <td>29</td>\n",
       "      <td>1. Male</td>\n",
       "      <td>2. Married</td>\n",
       "      <td>1. White</td>\n",
       "      <td>3. Some College</td>\n",
       "      <td>2. Middle Atlantic</td>\n",
       "      <td>1. Industrial</td>\n",
       "      <td>2. &gt;=Very Good</td>\n",
       "      <td>1. Yes</td>\n",
       "      <td>4.653213</td>\n",
       "      <td>104.921507</td>\n",
       "    </tr>\n",
       "    <tr>\n",
       "      <th>433</th>\n",
       "      <td>306092</td>\n",
       "      <td>2007</td>\n",
       "      <td>49</td>\n",
       "      <td>1. Male</td>\n",
       "      <td>2. Married</td>\n",
       "      <td>1. White</td>\n",
       "      <td>2. HS Grad</td>\n",
       "      <td>2. Middle Atlantic</td>\n",
       "      <td>1. Industrial</td>\n",
       "      <td>1. &lt;=Good</td>\n",
       "      <td>2. No</td>\n",
       "      <td>3.869232</td>\n",
       "      <td>47.905567</td>\n",
       "    </tr>\n",
       "    <tr>\n",
       "      <th>962</th>\n",
       "      <td>13960</td>\n",
       "      <td>2005</td>\n",
       "      <td>32</td>\n",
       "      <td>1. Male</td>\n",
       "      <td>2. Married</td>\n",
       "      <td>1. White</td>\n",
       "      <td>2. HS Grad</td>\n",
       "      <td>2. Middle Atlantic</td>\n",
       "      <td>2. Information</td>\n",
       "      <td>1. &lt;=Good</td>\n",
       "      <td>2. No</td>\n",
       "      <td>4.724276</td>\n",
       "      <td>112.648896</td>\n",
       "    </tr>\n",
       "  </tbody>\n",
       "</table>\n",
       "</div>"
      ],
      "text/plain": [
       "      Unnamed: 0  year  age      sex       maritl      race        education  \\\n",
       "1574      450118  2009   47  1. Male  4. Divorced  1. White       2. HS Grad   \n",
       "640       374391  2008   29  1. Male   2. Married  1. White  3. Some College   \n",
       "433       306092  2007   49  1. Male   2. Married  1. White       2. HS Grad   \n",
       "962        13960  2005   32  1. Male   2. Married  1. White       2. HS Grad   \n",
       "\n",
       "                  region        jobclass          health health_ins   logwage  \\\n",
       "1574  2. Middle Atlantic   1. Industrial       1. <=Good     1. Yes  4.505150   \n",
       "640   2. Middle Atlantic   1. Industrial  2. >=Very Good     1. Yes  4.653213   \n",
       "433   2. Middle Atlantic   1. Industrial       1. <=Good      2. No  3.869232   \n",
       "962   2. Middle Atlantic  2. Information       1. <=Good      2. No  4.724276   \n",
       "\n",
       "            wage  \n",
       "1574   90.481913  \n",
       "640   104.921507  \n",
       "433    47.905567  \n",
       "962   112.648896  "
      ]
     },
     "execution_count": 2,
     "metadata": {},
     "output_type": "execute_result"
    }
   ],
   "source": [
    "wage_df = pd.read_csv('data/Wage.csv')\n",
    "wage_df.sample(4)"
   ]
  },
  {
   "cell_type": "code",
   "execution_count": 12,
   "metadata": {},
   "outputs": [
    {
     "data": {
      "text/plain": [
       "<matplotlib.axes._subplots.AxesSubplot at 0x7f2d3e7fef60>"
      ]
     },
     "execution_count": 12,
     "metadata": {},
     "output_type": "execute_result"
    },
    {
     "data": {
      "image/png": "[encoded data removed]",
      "text/plain": [
       "<matplotlib.figure.Figure at 0x7f2d3e824160>"
      ]
     },
     "metadata": {},
     "output_type": "display_data"
    }
   ],
   "source": [
    "sns.distplot(wage_df.wage)"
   ]
  },
  {
   "cell_type": "code",
   "execution_count": 3,
   "metadata": {},
   "outputs": [
    {
     "name": "stdout",
     "output_type": "stream",
     "text": [
      "Figure 1.1\n"
     ]
    },
    {
     "data": {
      "image/png": "[encoded data removed]",
      "text/plain": [
       "<matplotlib.figure.Figure at 0x7f2d4681bb00>"
      ]
     },
     "metadata": {},
     "output_type": "display_data"
    }
   ],
   "source": [
    "fig = plt.figure(figsize=(20,4))\n",
    "\n",
    "fig.add_subplot(131)\n",
    "sns.regplot(x='age', y='wage', data=wage_df, order=5)\n",
    "\n",
    "fig.add_subplot(132)\n",
    "sns.regplot(x='year', y='wage', data=wage_df)\n",
    "\n",
    "fig.add_subplot(133)\n",
    "wage_df['education_int'] = wage_df['education'].str.extract('(\\d)', expand=False).astype(int)\n",
    "education_labels = wage_df['education'].unique()\n",
    "education_labels.sort()\n",
    "sns.boxplot(x='education_int', y='wage', data=wage_df)\n",
    "plt.xticks(np.arange(len(education_labels)),education_labels, rotation='vertical')\n",
    "\n",
    "print(\"Figure 1.1\")"
   ]
  },
  {
   "cell_type": "markdown",
   "metadata": {},
   "source": [
    "## Stock Market Data"
   ]
  },
  {
   "cell_type": "markdown",
   "metadata": {},
   "source": [
    "#### Domain \n",
    "\n",
    "This problem is drawn from the analysis of stock market performance. \n",
    "\n",
    "#### Problem Statement\n",
    "\n",
    "For a single stock, given knowledge about the previous days' change, we will use supervised learning to develop a classification model to predict whether the stock will increase or decrese in the next day.\n",
    "\n",
    "#### Dataset and Inputs\n",
    "\n",
    "The dataset to be examined contains the year, the change for the five previous days, the trading volume, the day's change, and a categorical variable describing whether the stock rose or fell on that day. This is for a single stock from 2001 to 2005.\n",
    "\n",
    "#### Solution Statement\n",
    "\n",
    "A solution to this problem will be a classification model such as a logistic regression, a decision tree classfier, or a support vector classifier. \n",
    "\n",
    "#### Benchmark Model\n",
    "\n",
    "Given that we seek a classification model a good naive benchmark would be to guess the most common class.\n",
    "\n",
    "#### Evaluation Metrics\n",
    "\n",
    "Given that this is a classification task, and there is a slight imbalance in our dataset (more Up than Down), we can measure the success of our model using the F1 Score.\n",
    "\n"
   ]
  },
  {
   "cell_type": "code",
   "execution_count": 5,
   "metadata": {},
   "outputs": [
    {
     "data": {
      "text/html": [
       "<div>\n",
       "<table border=\"1\" class=\"dataframe\">\n",
       "  <thead>\n",
       "    <tr style=\"text-align: right;\">\n",
       "      <th></th>\n",
       "      <th>Year</th>\n",
       "      <th>Lag1</th>\n",
       "      <th>Lag2</th>\n",
       "      <th>Lag3</th>\n",
       "      <th>Lag4</th>\n",
       "      <th>Lag5</th>\n",
       "      <th>Volume</th>\n",
       "      <th>Today</th>\n",
       "      <th>Direction</th>\n",
       "    </tr>\n",
       "    <tr>\n",
       "      <th>Index</th>\n",
       "      <th></th>\n",
       "      <th></th>\n",
       "      <th></th>\n",
       "      <th></th>\n",
       "      <th></th>\n",
       "      <th></th>\n",
       "      <th></th>\n",
       "      <th></th>\n",
       "      <th></th>\n",
       "    </tr>\n",
       "  </thead>\n",
       "  <tbody>\n",
       "    <tr>\n",
       "      <th>889</th>\n",
       "      <td>2004</td>\n",
       "      <td>0.993</td>\n",
       "      <td>-0.196</td>\n",
       "      <td>-0.970</td>\n",
       "      <td>0.271</td>\n",
       "      <td>-1.334</td>\n",
       "      <td>1.6108</td>\n",
       "      <td>0.054</td>\n",
       "      <td>Up</td>\n",
       "    </tr>\n",
       "    <tr>\n",
       "      <th>916</th>\n",
       "      <td>2004</td>\n",
       "      <td>1.121</td>\n",
       "      <td>0.151</td>\n",
       "      <td>0.463</td>\n",
       "      <td>-0.778</td>\n",
       "      <td>0.243</td>\n",
       "      <td>1.1184</td>\n",
       "      <td>-0.418</td>\n",
       "      <td>Down</td>\n",
       "    </tr>\n",
       "    <tr>\n",
       "      <th>233</th>\n",
       "      <td>2001</td>\n",
       "      <td>0.331</td>\n",
       "      <td>-1.556</td>\n",
       "      <td>0.027</td>\n",
       "      <td>-0.278</td>\n",
       "      <td>-1.587</td>\n",
       "      <td>1.3068</td>\n",
       "      <td>1.003</td>\n",
       "      <td>Up</td>\n",
       "    </tr>\n",
       "    <tr>\n",
       "      <th>883</th>\n",
       "      <td>2004</td>\n",
       "      <td>-0.044</td>\n",
       "      <td>-0.479</td>\n",
       "      <td>-0.430</td>\n",
       "      <td>-0.329</td>\n",
       "      <td>0.071</td>\n",
       "      <td>1.3199</td>\n",
       "      <td>0.706</td>\n",
       "      <td>Up</td>\n",
       "    </tr>\n",
       "  </tbody>\n",
       "</table>\n",
       "</div>"
      ],
      "text/plain": [
       "       Year   Lag1   Lag2   Lag3   Lag4   Lag5  Volume  Today Direction\n",
       "Index                                                                  \n",
       "889    2004  0.993 -0.196 -0.970  0.271 -1.334  1.6108  0.054        Up\n",
       "916    2004  1.121  0.151  0.463 -0.778  0.243  1.1184 -0.418      Down\n",
       "233    2001  0.331 -1.556  0.027 -0.278 -1.587  1.3068  1.003        Up\n",
       "883    2004 -0.044 -0.479 -0.430 -0.329  0.071  1.3199  0.706        Up"
      ]
     },
     "execution_count": 5,
     "metadata": {},
     "output_type": "execute_result"
    }
   ],
   "source": [
    "market_df = pd.read_csv('data/Smarket.csv', index_col='Index')\n",
    "market_df.sample(4)"
   ]
  },
  {
   "cell_type": "code",
   "execution_count": 6,
   "metadata": {},
   "outputs": [
    {
     "data": {
      "text/plain": [
       "<matplotlib.axes._subplots.AxesSubplot at 0x7f2d443bc8d0>"
      ]
     },
     "execution_count": 6,
     "metadata": {},
     "output_type": "execute_result"
    },
    {
     "data": {
      "image/png": "[encoded data removed]",
      "text/plain": [
       "<matplotlib.figure.Figure at 0x7f2d443c9198>"
      ]
     },
     "metadata": {},
     "output_type": "display_data"
    }
   ],
   "source": [
    "sns.distplot(market_df.Direction == 'Up')"
   ]
  },
  {
   "cell_type": "code",
   "execution_count": 7,
   "metadata": {},
   "outputs": [
    {
     "name": "stdout",
     "output_type": "stream",
     "text": [
      "Figure 1.2\n"
     ]
    },
    {
     "data": {
      "image/png": "[encoded data removed]",
      "text/plain": [
       "<matplotlib.figure.Figure at 0x7f2d44516898>"
      ]
     },
     "metadata": {},
     "output_type": "display_data"
    }
   ],
   "source": [
    "fig = plt.figure(figsize=(20,4))\n",
    "\n",
    "fig.add_subplot(131)\n",
    "sns.boxplot(x='Direction', y='Lag1', data=market_df)\n",
    "plt.title(\"Yesterday\")\n",
    "\n",
    "fig.add_subplot(132)\n",
    "sns.boxplot(x='Direction', y='Lag2', data=market_df)\n",
    "plt.title(\"Two Days Previous\")\n",
    "\n",
    "fig.add_subplot(133)\n",
    "sns.boxplot(x='Direction', y='Lag3', data=market_df)\n",
    "plt.title(\"Three Days Previous\")\n",
    "\n",
    "print(\"Figure 1.2\")"
   ]
  },
  {
   "cell_type": "markdown",
   "metadata": {},
   "source": [
    "## Gene Expression Data"
   ]
  },
  {
   "cell_type": "markdown",
   "metadata": {},
   "source": [
    "#### Domain \n",
    "\n",
    "This problem is drawn from the analysis of gene expression data. \n",
    "\n",
    "#### Problem Statement\n",
    "\n",
    "Given the expression measurements of 64 cell lines, we wish to project these cell lines into two dimensions and perform an unsupervised cluster analysis in order to identify similar cell lines.\n",
    "\n",
    "#### Dataset and Inputs\n",
    "\n",
    "The dataset to be examined is the `NCI60` dataset, which consists of 6830 gene expression measurements for each of 64 cancer cell lines.\n",
    "\n",
    "#### Solution Statement\n",
    "\n",
    "A solution to this problem will be a cluster analysis using a model such as a KMeans Clustering or a Gaussian Mixture Model. \n",
    "\n",
    "#### Benchmark Model\n",
    "\n",
    "N/A\n",
    "\n",
    "#### Evaluation Metrics\n",
    "\n",
    "Given that this is a clustering task, we can measure the success of our model using the Silhouette Score.\n",
    "\n"
   ]
  },
  {
   "cell_type": "code",
   "execution_count": 8,
   "metadata": {},
   "outputs": [
    {
     "data": {
      "text/html": [
       "<div>\n",
       "<table border=\"1\" class=\"dataframe\">\n",
       "  <thead>\n",
       "    <tr style=\"text-align: right;\">\n",
       "      <th></th>\n",
       "      <th>data.1</th>\n",
       "      <th>data.2</th>\n",
       "      <th>data.3</th>\n",
       "      <th>data.4</th>\n",
       "      <th>data.5</th>\n",
       "      <th>data.6</th>\n",
       "      <th>data.7</th>\n",
       "      <th>data.8</th>\n",
       "      <th>data.9</th>\n",
       "      <th>data.10</th>\n",
       "      <th>...</th>\n",
       "      <th>data.6822</th>\n",
       "      <th>data.6823</th>\n",
       "      <th>data.6824</th>\n",
       "      <th>data.6825</th>\n",
       "      <th>data.6826</th>\n",
       "      <th>data.6827</th>\n",
       "      <th>data.6828</th>\n",
       "      <th>data.6829</th>\n",
       "      <th>data.6830</th>\n",
       "      <th>labs</th>\n",
       "    </tr>\n",
       "    <tr>\n",
       "      <th>Index</th>\n",
       "      <th></th>\n",
       "      <th></th>\n",
       "      <th></th>\n",
       "      <th></th>\n",
       "      <th></th>\n",
       "      <th></th>\n",
       "      <th></th>\n",
       "      <th></th>\n",
       "      <th></th>\n",
       "      <th></th>\n",
       "      <th></th>\n",
       "      <th></th>\n",
       "      <th></th>\n",
       "      <th></th>\n",
       "      <th></th>\n",
       "      <th></th>\n",
       "      <th></th>\n",
       "      <th></th>\n",
       "      <th></th>\n",
       "      <th></th>\n",
       "      <th></th>\n",
       "    </tr>\n",
       "  </thead>\n",
       "  <tbody>\n",
       "    <tr>\n",
       "      <th>V53</th>\n",
       "      <td>-0.429981</td>\n",
       "      <td>-0.389981</td>\n",
       "      <td>-0.179981</td>\n",
       "      <td>0.860019</td>\n",
       "      <td>0.785019</td>\n",
       "      <td>0.04002</td>\n",
       "      <td>0.27002</td>\n",
       "      <td>-0.104981</td>\n",
       "      <td>6.001953e-02</td>\n",
       "      <td>-0.644961</td>\n",
       "      <td>...</td>\n",
       "      <td>-0.24998</td>\n",
       "      <td>0.200019</td>\n",
       "      <td>0.495019</td>\n",
       "      <td>0.180000</td>\n",
       "      <td>6.001953e-02</td>\n",
       "      <td>0.33001</td>\n",
       "      <td>0.10002</td>\n",
       "      <td>-0.09998</td>\n",
       "      <td>-1.46998</td>\n",
       "      <td>NSCLC</td>\n",
       "    </tr>\n",
       "    <tr>\n",
       "      <th>V6</th>\n",
       "      <td>0.310000</td>\n",
       "      <td>-0.030000</td>\n",
       "      <td>-0.100000</td>\n",
       "      <td>-0.460000</td>\n",
       "      <td>-0.205000</td>\n",
       "      <td>-0.54000</td>\n",
       "      <td>-0.64000</td>\n",
       "      <td>-0.585000</td>\n",
       "      <td>-7.700000e-01</td>\n",
       "      <td>-0.244980</td>\n",
       "      <td>...</td>\n",
       "      <td>0.00000</td>\n",
       "      <td>-0.740000</td>\n",
       "      <td>-2.095000</td>\n",
       "      <td>-1.390020</td>\n",
       "      <td>-4.000000e-01</td>\n",
       "      <td>0.69999</td>\n",
       "      <td>0.29000</td>\n",
       "      <td>0.55000</td>\n",
       "      <td>0.00000</td>\n",
       "      <td>CNS</td>\n",
       "    </tr>\n",
       "    <tr>\n",
       "      <th>V54</th>\n",
       "      <td>0.160000</td>\n",
       "      <td>-0.340000</td>\n",
       "      <td>-0.020000</td>\n",
       "      <td>-1.730000</td>\n",
       "      <td>-0.625000</td>\n",
       "      <td>-0.14000</td>\n",
       "      <td>-0.09000</td>\n",
       "      <td>0.435000</td>\n",
       "      <td>0.000000e+00</td>\n",
       "      <td>0.465019</td>\n",
       "      <td>...</td>\n",
       "      <td>0.00000</td>\n",
       "      <td>0.000000</td>\n",
       "      <td>0.075000</td>\n",
       "      <td>0.229980</td>\n",
       "      <td>-2.081676e-17</td>\n",
       "      <td>-0.85001</td>\n",
       "      <td>0.18000</td>\n",
       "      <td>0.05000</td>\n",
       "      <td>1.93000</td>\n",
       "      <td>NSCLC</td>\n",
       "    </tr>\n",
       "    <tr>\n",
       "      <th>V19</th>\n",
       "      <td>0.150000</td>\n",
       "      <td>-0.450000</td>\n",
       "      <td>-0.320000</td>\n",
       "      <td>-1.610000</td>\n",
       "      <td>-0.095000</td>\n",
       "      <td>-0.08000</td>\n",
       "      <td>0.00000</td>\n",
       "      <td>0.225000</td>\n",
       "      <td>-1.629691e-18</td>\n",
       "      <td>0.765019</td>\n",
       "      <td>...</td>\n",
       "      <td>2.68000</td>\n",
       "      <td>1.180000</td>\n",
       "      <td>1.095000</td>\n",
       "      <td>0.419981</td>\n",
       "      <td>1.700000e-01</td>\n",
       "      <td>0.00000</td>\n",
       "      <td>1.07000</td>\n",
       "      <td>0.80000</td>\n",
       "      <td>2.76000</td>\n",
       "      <td>NSCLC</td>\n",
       "    </tr>\n",
       "  </tbody>\n",
       "</table>\n",
       "<p>4 rows × 6831 columns</p>\n",
       "</div>"
      ],
      "text/plain": [
       "         data.1    data.2    data.3    data.4    data.5   data.6   data.7  \\\n",
       "Index                                                                       \n",
       "V53   -0.429981 -0.389981 -0.179981  0.860019  0.785019  0.04002  0.27002   \n",
       "V6     0.310000 -0.030000 -0.100000 -0.460000 -0.205000 -0.54000 -0.64000   \n",
       "V54    0.160000 -0.340000 -0.020000 -1.730000 -0.625000 -0.14000 -0.09000   \n",
       "V19    0.150000 -0.450000 -0.320000 -1.610000 -0.095000 -0.08000  0.00000   \n",
       "\n",
       "         data.8        data.9   data.10  ...    data.6822  data.6823  \\\n",
       "Index                                    ...                           \n",
       "V53   -0.104981  6.001953e-02 -0.644961  ...     -0.24998   0.200019   \n",
       "V6    -0.585000 -7.700000e-01 -0.244980  ...      0.00000  -0.740000   \n",
       "V54    0.435000  0.000000e+00  0.465019  ...      0.00000   0.000000   \n",
       "V19    0.225000 -1.629691e-18  0.765019  ...      2.68000   1.180000   \n",
       "\n",
       "       data.6824  data.6825     data.6826  data.6827  data.6828  data.6829  \\\n",
       "Index                                                                        \n",
       "V53     0.495019   0.180000  6.001953e-02    0.33001    0.10002   -0.09998   \n",
       "V6     -2.095000  -1.390020 -4.000000e-01    0.69999    0.29000    0.55000   \n",
       "V54     0.075000   0.229980 -2.081676e-17   -0.85001    0.18000    0.05000   \n",
       "V19     1.095000   0.419981  1.700000e-01    0.00000    1.07000    0.80000   \n",
       "\n",
       "       data.6830   labs  \n",
       "Index                    \n",
       "V53     -1.46998  NSCLC  \n",
       "V6       0.00000    CNS  \n",
       "V54      1.93000  NSCLC  \n",
       "V19      2.76000  NSCLC  \n",
       "\n",
       "[4 rows x 6831 columns]"
      ]
     },
     "execution_count": 8,
     "metadata": {},
     "output_type": "execute_result"
    }
   ],
   "source": [
    "gene_expression_df = pd.read_csv('data/NCI60.csv', index_col='Index')\n",
    "gene_expression_df.sample(4)"
   ]
  },
  {
   "cell_type": "code",
   "execution_count": 9,
   "metadata": {},
   "outputs": [],
   "source": [
    "from sklearn.decomposition import PCA\n",
    "\n",
    "number_of_dimensions = 2\n",
    "pca = PCA(n_components=number_of_dimensions)\n",
    "\n",
    "pca.fit(gene_expression_df.drop('labs', axis=1))\n",
    "gene_exp_2d = pca.transform(gene_expression_df.drop('labs', axis=1))"
   ]
  },
  {
   "cell_type": "code",
   "execution_count": 10,
   "metadata": {},
   "outputs": [
    {
     "data": {
      "image/png": "[encoded data removed]",
      "text/plain": [
       "<matplotlib.figure.Figure at 0x7f2d43b7f5c0>"
      ]
     },
     "metadata": {},
     "output_type": "display_data"
    }
   ],
   "source": [
    "from sklearn.cluster import KMeans\n",
    "\n",
    "number_of_clusters = [2,3,6,14]\n",
    "\n",
    "fig = plt.figure(figsize=(20,4))\n",
    "\n",
    "for i, clusters in enumerate(number_of_clusters):\n",
    "    fig.add_subplot(101+i+10*len(number_of_clusters))\n",
    "    kmeans = KMeans(n_clusters=clusters)\n",
    "    kmeans.fit(gene_expression_df.drop('labs', axis=1))\n",
    "    labels = ['cluster ' + str(label+1) for label in kmeans.labels_]\n",
    "    ax = sns.swarmplot(x=gene_exp_2d[:,0], y=gene_exp_2d[:,1], hue=labels)\n",
    "    ax.set(xticklabels=[])\n",
    "    ax.set(yticklabels=[])\n",
    "    ax.legend(loc='upper right')\n",
    "    if i == 3: ax.legend_.remove()"
   ]
  },
  {
   "cell_type": "code",
   "execution_count": null,
   "metadata": {},
   "outputs": [],
   "source": []
  }
 ],
 "metadata": {
  "kernelspec": {
   "display_name": "Python 3",
   "language": "python",
   "name": "python3"
  },
  "language_info": {
   "codemirror_mode": {
    "name": "ipython",
    "version": 3
   },
   "file_extension": ".py",
   "mimetype": "text/x-python",
   "name": "python",
   "nbconvert_exporter": "python",
   "pygments_lexer": "ipython3",
   "version": "3.6.3"
  }
 },
 "nbformat": 4,
 "nbformat_minor": 2
}
